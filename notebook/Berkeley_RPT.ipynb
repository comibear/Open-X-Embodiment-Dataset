{
 "cells": [
  {
   "cell_type": "markdown",
   "metadata": {},
   "source": [
    "# DATASET"
   ]
  },
  {
   "cell_type": "code",
   "execution_count": 57,
   "metadata": {},
   "outputs": [
    {
     "name": "stdout",
     "output_type": "stream",
     "text": [
      "MuJoCo:[3.1.6]\n"
     ]
    }
   ],
   "source": [
    "import numpy as np\n",
    "import tensorflow_datasets as tfds\n",
    "import tqdm\n",
    "from PIL import Image\n",
    "from IPython import display\n",
    "\n",
    "import mujoco,sys\n",
    "import numpy as np\n",
    "import matplotlib.pyplot as plt\n",
    "\n",
    "sys.path.append('../package/')\n",
    "sys.path.append('../package/helper/')\n",
    "sys.path.append('../package/mujoco_usage/')\n",
    "\n",
    "from mujoco_parser import *\n",
    "from transformation import *\n",
    "from slider import *\n",
    "from utility import *\n",
    "from utils import *\n",
    "\n",
    "%config InlineBackend.figure_format = 'retina'\n",
    "%matplotlib inline\n",
    "print (\"MuJoCo:[%s]\"%(mujoco.__version__))"
   ]
  },
  {
   "cell_type": "code",
   "execution_count": 58,
   "metadata": {},
   "outputs": [
    {
     "name": "stdout",
     "output_type": "stream",
     "text": [
      "FeaturesDict({\n",
      "    'episode_metadata': FeaturesDict({\n",
      "        'file_path': Text(shape=(), dtype=string),\n",
      "    }),\n",
      "    'steps': Dataset({\n",
      "        'action': Tensor(shape=(8,), dtype=float32),\n",
      "        'discount': Scalar(shape=(), dtype=float32),\n",
      "        'is_first': bool,\n",
      "        'is_last': bool,\n",
      "        'is_terminal': bool,\n",
      "        'language_embedding': Tensor(shape=(512,), dtype=float32),\n",
      "        'language_instruction': Text(shape=(), dtype=string),\n",
      "        'observation': FeaturesDict({\n",
      "            'gripper': Scalar(shape=(), dtype=bool),\n",
      "            'hand_image': Image(shape=(480, 640, 3), dtype=uint8),\n",
      "            'joint_pos': Tensor(shape=(7,), dtype=float32),\n",
      "        }),\n",
      "        'reward': Scalar(shape=(), dtype=float32),\n",
      "    }),\n",
      "})\n"
     ]
    }
   ],
   "source": [
    "dataset = DATASETS[34] # berkeley_rpt_converted_externally_to_rlds\n",
    "display_key = 'hand_image'\n",
    "\n",
    "ds, iterator = get_dataset(dataset, display_key=display_key)"
   ]
  },
  {
   "cell_type": "code",
   "execution_count": 59,
   "metadata": {},
   "outputs": [
    {
     "name": "stdout",
     "output_type": "stream",
     "text": [
      "MoviePy - Building video output.mp4.\n",
      "MoviePy - Writing video output.mp4\n",
      "\n"
     ]
    },
    {
     "name": "stderr",
     "output_type": "stream",
     "text": [
      "                                                                         \r"
     ]
    },
    {
     "name": "stdout",
     "output_type": "stream",
     "text": [
      "MoviePy - Done !\n",
      "MoviePy - video ready output.mp4\n"
     ]
    }
   ],
   "source": [
    "episode = next(iterator)\n",
    "images = get_image_from_episode(episode, display_key=display_key)\n",
    "\n",
    "import os\n",
    "from PIL import Image\n",
    "import numpy as np\n",
    "os.environ[\"IMAGEIO_FFMPEG_EXE\"] = \"/opt/homebrew/bin/ffmpeg\"\n",
    "\n",
    "from moviepy import *\n",
    "\n",
    "frames = [np.array(img.convert('RGB')) for img in images]\n",
    "clip = ImageSequenceClip(frames, fps=3)\n",
    "clip.write_videofile(\"output.mp4\", codec='libx264', audio=False)"
   ]
  },
  {
   "cell_type": "code",
   "execution_count": 60,
   "metadata": {},
   "outputs": [],
   "source": [
    "from PIL import Image\n",
    "import numpy as np\n",
    "import matplotlib.pyplot as plt\n",
    "\n",
    "def arr2image(array):\n",
    "    \"\"\"\n",
    "    Displays a NumPy array (h, w, c) as an image.\n",
    "    \"\"\"\n",
    "    # Check the array shape and type\n",
    "    if len(array.shape) != 3 or array.shape[2] not in [3, 4]:\n",
    "        raise ValueError(\"Input array must have shape (h, w, c) with c=3 (RGB) or c=4 (RGBA).\")\n",
    "    \n",
    "    # Display the image using matplotlib\n",
    "    plt.imshow(array)\n",
    "    plt.axis('off')  # Turn off axis\n",
    "    plt.show()"
   ]
  },
  {
   "cell_type": "code",
   "execution_count": null,
   "metadata": {},
   "outputs": [],
   "source": []
  },
  {
   "cell_type": "markdown",
   "metadata": {},
   "source": [
    "# EPISODE"
   ]
  },
  {
   "cell_type": "code",
   "execution_count": 62,
   "metadata": {},
   "outputs": [
    {
     "name": "stderr",
     "output_type": "stream",
     "text": [
      "2025-01-29 21:10:20.492180: I tensorflow/core/framework/local_rendezvous.cc:405] Local rendezvous is aborting with status: OUT_OF_RANGE: End of sequence\n"
     ]
    }
   ],
   "source": [
    "iter_steps = iter(episode['steps'])\n",
    "joint_states = [base['observation']['joint_pos'] for base in iter_steps]\n",
    "\n",
    "iter_steps = iter(episode['steps'])\n",
    "actions = [base['action'] for base in iter_steps]"
   ]
  },
  {
   "cell_type": "markdown",
   "metadata": {},
   "source": [
    "# ENV"
   ]
  },
  {
   "cell_type": "code",
   "execution_count": 63,
   "metadata": {},
   "outputs": [],
   "source": [
    "xml_path = '../mujoco_menagerie/franka_fr3/scene.xml'\n",
    "env = MuJoCoParserClass(name='Tabletop',rel_xml_path=xml_path,verbose=False)"
   ]
  },
  {
   "cell_type": "markdown",
   "metadata": {},
   "source": [
    "# CONTROL"
   ]
  },
  {
   "cell_type": "code",
   "execution_count": 65,
   "metadata": {},
   "outputs": [
    {
     "name": "stdout",
     "output_type": "stream",
     "text": [
      "Done.\n"
     ]
    }
   ],
   "source": [
    "sliders = MultiSliderClass( # Slider for EE control\n",
    "    n_slider      = 7,\n",
    "    title         = 'Sliders for [%s] Control'%(env.name),\n",
    "    window_width  = 450,\n",
    "    window_height = 300,\n",
    "    x_offset      = 0,\n",
    "    y_offset      = 100,\n",
    "    slider_width  = 300,\n",
    "    label_texts   = ['X','Y','Z','Roll-deg','Pitch-deg','Yaw-deg','Gripper'],\n",
    "    slider_mins   = [-1,-1,0,-180,-180,-180,0],\n",
    "    slider_maxs   = [+1,+1,1.2,+180,+180,+180,2],\n",
    "    slider_vals   = [0,0,0,0,0,0,0],\n",
    "    resolutions   = [0.02,0.02,0.02,3.6,3.6,3.6,0.04], # range/50\n",
    "    verbose       = False,\n",
    ")\n",
    "\n",
    "joint_names = env.joint_names[:-2] # Except fingers\n",
    "\n",
    "# Don't Know Why.....\n",
    "q0 = np.zeros_like(joint_names, dtype=float)\n",
    "\n",
    "\n",
    "# q0 = np.zeros(len(joint_names), dtype=float)\n",
    "p0 = env.get_p_body(body_name='base_link')+np.array([0.5,0.0,0.45])\n",
    "R0 = rpy_deg2r([0,0,0])\n",
    "\n",
    "env.init_viewer(\n",
    "    title       = 'Tabletop',\n",
    "    transparent = False,\n",
    "    azimuth     = 133,\n",
    "    distance    = 3.5,\n",
    "    elevation   = -42.4,\n",
    "    lookat      = (-0.06,0.07,0.31),\n",
    ")\n",
    "env.reset() # reset\n",
    "env.forward(q=q0,joint_names=joint_names) # initial position\n",
    "\n",
    "# Loop\n",
    "q_ik_init = q0.copy()\n",
    "while env.is_viewer_alive():\n",
    "    \n",
    "    # Update\n",
    "    sliders.update() # update slider\n",
    "    xyzrpyg = sliders.get_slider_values()\n",
    "    qpos,ik_err_stack,ik_info = solve_ik(\n",
    "        env                = env,\n",
    "        joint_names_for_ik = joint_names,\n",
    "        body_name_trgt     = 'tcp_link',\n",
    "        q_init             = q_ik_init,\n",
    "        p_trgt             = xyzrpyg[:3]+p0,\n",
    "        R_trgt             = rpy_deg2r(xyzrpyg[3:6])@R0,\n",
    "        max_ik_tick        = 500,\n",
    "        ik_stepsize        = 1.0,\n",
    "        ik_eps             = 1e-2,\n",
    "        ik_th              = np.radians(5.0),\n",
    "        render             = False,\n",
    "        verbose_warning    = False,\n",
    "    )\n",
    "    ik_err = np.abs(ik_err_stack).max() # IK error\n",
    "    if ik_err < 1e-2: q_ik_init = qpos.copy()\n",
    "    else: q_ik_init = q0.copy()\n",
    "    \n",
    "    env.step( # dynamic update\n",
    "        ctrl        = np.append(np.append(qpos,xyzrpyg[6]),xyzrpyg[6]),\n",
    "        joint_names = joint_names+['joint_finger_right','joint_finger_left'])\n",
    "    \n",
    "    # Render \n",
    "    if env.loop_every(tick_every=10):\n",
    "        env.plot_T(\n",
    "            T=env.get_T_body(body_name='base_link'),\n",
    "            axis_len=0.5,print_xyz=False)\n",
    "        env.plot_text(\n",
    "            p=env.get_p_body(body_name='base_link')+np.array([0,0,0.5]),\n",
    "            label = 'time:[%.2f]sec ik_err:[%.3f]'%(env.get_sim_time(),ik_err))\n",
    "        env.plot_body_T(body_name='tcp_link',axis_len=0.1,axis_width=0.005)\n",
    "        env.plot_contact_info(\n",
    "            r_arrow=0.005,h_arrow=0.1,rgba_contact=(1,0,0,0.5),plot_sphere=False)\n",
    "        plot_ik_info(env=env,ik_info=ik_info)\n",
    "        \n",
    "        env.render()\n",
    "\n",
    "# Close\n",
    "env.close_viewer()\n",
    "sliders.close()\n",
    "print (\"Done.\")"
   ]
  },
  {
   "cell_type": "markdown",
   "metadata": {},
   "source": [
    "# Trajectory"
   ]
  },
  {
   "cell_type": "markdown",
   "metadata": {},
   "source": [
    "### 1) genration"
   ]
  },
  {
   "cell_type": "code",
   "execution_count": 47,
   "metadata": {},
   "outputs": [],
   "source": [
    "joint_names = env.joint_names\n",
    "\n",
    "q0 = np.array(joint_states[0])\n",
    "\n",
    "q_traj = []\n",
    "\n",
    "q_ik_init = q0.copy()\n",
    "for ik_target in states:\n",
    "\n",
    "    qpos,ik_err_stack,ik_info = solve_ik(\n",
    "        env                = env,\n",
    "        joint_names_for_ik = joint_names,\n",
    "        body_name_trgt     = 'tcp_link',\n",
    "        q_init             = q_ik_init,\n",
    "        p_trgt             = ik_target[:3],\n",
    "        R_trgt             = quat2r(ik_target[3:]),\n",
    "        max_ik_tick        = 500,\n",
    "        ik_stepsize        = 1.0,\n",
    "        ik_eps             = 1e-2,\n",
    "        ik_th              = np.radians(5.0),\n",
    "        render             = False,\n",
    "        verbose_warning    = False,\n",
    "    )\n",
    "\n",
    "    ik_err = np.abs(ik_err_stack).max() # IK error\n",
    "    if ik_err < 1e-2: q_ik_init = qpos.copy()\n",
    "    else: q_ik_init = q0.copy()\n",
    "    \n",
    "    # print(ik_err, ik_target[:3], rot_target)\n",
    "    q_traj.append(qpos)"
   ]
  },
  {
   "cell_type": "markdown",
   "metadata": {},
   "source": [
    "### 2) Comparing"
   ]
  },
  {
   "cell_type": "code",
   "execution_count": 13,
   "metadata": {},
   "outputs": [
    {
     "name": "stdout",
     "output_type": "stream",
     "text": [
      "Done.\n"
     ]
    }
   ],
   "source": [
    "# G -> B -> R\n",
    "\n",
    "idx = 0\n",
    "assert idx < len(frames)\n",
    "\n",
    "sliders = MultiSliderClass( # Slider for EE control\n",
    "    n_slider      = 7,\n",
    "    title         = 'Sliders for [%s] Control'%(env.name),\n",
    "    window_width  = 450,\n",
    "    window_height = 300,\n",
    "    x_offset      = 0,\n",
    "    y_offset      = 100,\n",
    "    slider_width  = 300,\n",
    "    label_texts   = ['X','Y','Z','Roll-deg','Pitch-deg','Yaw-deg','Gripper'],\n",
    "    slider_mins   = [-1,-1,0,-180,-180,-180,0],\n",
    "    slider_maxs   = [+1,+1,1.2,+180,+180,+180,2],\n",
    "    slider_vals   = [0,0,0,0,0,0,0],\n",
    "    resolutions   = [0.02,0.02,0.02,3.6,3.6,3.6,0.04], # range/50\n",
    "    verbose       = False,\n",
    ")\n",
    "\n",
    "joint_names = ['joint1', 'joint2', 'joint3', 'joint4', 'joint5', 'joint6', 'joint7']\n",
    "\n",
    "env.reset(step=True)\n",
    "\n",
    "q0 = q_traj[idx]\n",
    "\n",
    "p0 = env.get_p_body(body_name='tcp_link')\n",
    "R0 = env.get_R_body(body_name='tcp_link')\n",
    "\n",
    "env.init_viewer()\n",
    "\n",
    "# Loop\n",
    "q_ik_init = q0.copy()\n",
    "while env.is_viewer_alive():\n",
    "    \n",
    "    # Update\n",
    "    sliders.update() # update slider\n",
    "    xyzrpyg = sliders.get_slider_values()\n",
    "    qpos,ik_err_stack,ik_info = solve_ik(\n",
    "        env                = env,\n",
    "        joint_names_for_ik = joint_names,\n",
    "        body_name_trgt     = 'tcp_link',\n",
    "        q_init             = q_ik_init,\n",
    "        p_trgt             = xyzrpyg[:3]+p0,\n",
    "        R_trgt             = rpy_deg2r(xyzrpyg[3:6])@R0,\n",
    "        max_ik_tick        = 500,\n",
    "        ik_stepsize        = 1.0,\n",
    "        ik_eps             = 1e-2,\n",
    "        ik_th              = np.radians(5.0),\n",
    "        render             = False,\n",
    "        verbose_warning    = False,\n",
    "    )\n",
    "    \n",
    "    ik_err = np.abs(ik_err_stack).max() # IK error\n",
    "    if ik_err < 1e-2: q_ik_init = qpos.copy()\n",
    "    else: q_ik_init = q0.copy()\n",
    "    \n",
    "    env.step( # dynamic update\n",
    "        ctrl        = qpos,\n",
    "        joint_names = joint_names\n",
    "    )\n",
    "    \n",
    "    # Render \n",
    "    if env.loop_every(tick_every=10):\n",
    "        env.plot_T(\n",
    "            T=env.get_T_body(body_name='link0'),\n",
    "            axis_len=0.5,print_xyz=False)\n",
    "        env.plot_text(\n",
    "            p=env.get_p_body(body_name='link0')+np.array([0,0,0.5]),\n",
    "            label = 'time:[%.2f]sec ik_err:[%.3f]'%(env.get_sim_time(),ik_err))\n",
    "        env.plot_body_T(body_name='tcp_link',axis_len=0.1,axis_width=0.005)\n",
    "        env.plot_contact_info(\n",
    "            r_arrow=0.005,h_arrow=0.1,rgba_contact=(1,0,0,0.5),plot_sphere=False)\n",
    "        plot_ik_info(env=env,ik_info=ik_info)\n",
    "        \n",
    "        env.render()\n",
    "\n",
    "# Close\n",
    "env.close_viewer()\n",
    "sliders.close()\n",
    "print(\"Done.\")  "
   ]
  },
  {
   "cell_type": "markdown",
   "metadata": {},
   "source": [
    "# Trajectory Reappearance"
   ]
  },
  {
   "cell_type": "code",
   "execution_count": 40,
   "metadata": {},
   "outputs": [
    {
     "name": "stdout",
     "output_type": "stream",
     "text": [
      "Done.\n"
     ]
    }
   ],
   "source": [
    "joint_names = env.joint_names\n",
    "q0 = np.array(joint_states[0])\n",
    "\n",
    "env.init_viewer()\n",
    "\n",
    "env.reset() # reset\n",
    "env.forward(q=q0,joint_names=joint_names) # initial position\n",
    "    \n",
    "# Loop\n",
    "q_ik_init = q0.copy()\n",
    "qpos = q_traj[0]\n",
    "idx = 0\n",
    "\n",
    "# append two gripper states to qpos\n",
    "# gripper = gripper_states[0]\n",
    "# qpos = np.append(qpos, [gripper, gripper])\n",
    "\n",
    "while env.is_viewer_alive():\n",
    "    env.forward(q=qpos,joint_names=joint_names)\n",
    "\n",
    "    # Render \n",
    "    if env.loop_every(HZ=1):\n",
    "        if idx < len(q_traj)-1:\n",
    "            idx += 1\n",
    "        else: idx = 0\n",
    "\n",
    "        qpos = q_traj[idx]\n",
    "        # gripper = gripper_states[idx]\n",
    "        # qpos = np.append(qpos, [gripper, gripper])\n",
    "\n",
    "        env.plot_T(\n",
    "            T=env.get_T_body(body_name='base'),\n",
    "            axis_len=0.5,print_xyz=False)\n",
    "        env.plot_text(\n",
    "            p=env.get_p_body(body_name='base')+np.array([0,0,0.5]),\n",
    "            label = 'tick:[%d]time:[%.2f]'%(idx, env.get_sim_time()))\n",
    "        env.plot_body_T(body_name='tcp_link',axis_len=0.1,axis_width=0.005)\n",
    "        \n",
    "        env.render()\n",
    "\n",
    "# Close\n",
    "env.close_viewer()\n",
    "print (\"Done.\")"
   ]
  },
  {
   "cell_type": "code",
   "execution_count": 64,
   "metadata": {},
   "outputs": [
    {
     "name": "stdout",
     "output_type": "stream",
     "text": [
      "Done.\n"
     ]
    }
   ],
   "source": [
    "joint_names = env.joint_names\n",
    "q0 = np.array(joint_states[0])\n",
    "\n",
    "env.init_viewer()\n",
    "\n",
    "env.reset() # reset\n",
    "env.forward(q=q0,joint_names=joint_names) # initial position\n",
    "    \n",
    "# Loop\n",
    "q_ik_init = q0.copy()\n",
    "qpos = joint_states[0]\n",
    "idx = 0\n",
    "\n",
    "while env.is_viewer_alive():\n",
    "    env.forward(q=qpos,joint_names=joint_names)\n",
    "    # Render \n",
    "\n",
    "    if env.loop_every(HZ=1):\n",
    "        if idx < len(joint_states)-1:\n",
    "            idx += 1\n",
    "        else: idx = 0\n",
    "\n",
    "        qpos = joint_states[idx]  # Use first 7 joints from joint_states\n",
    "\n",
    "        env.plot_T(\n",
    "            T=env.get_T_body(body_name='base'),\n",
    "            axis_len=0.5,print_xyz=False)\n",
    "        env.plot_text(\n",
    "            p=env.get_p_body(body_name='base')+np.array([0,0,0.5]),\n",
    "            label = 'tick:[%d]time:[%.2f]'%(idx, env.get_sim_time()))\n",
    "        env.plot_body_T(body_name='tcp_link',axis_len=0.1,axis_width=0.005)\n",
    "        \n",
    "        env.render()\n",
    "\n",
    "# Close\n",
    "env.close_viewer()\n",
    "print (\"Done.\")\n",
    "\n",
    "# [ 0.46062913 -0.0419206   0.58133918] (calculated by joint_states) -> [0.46408984 -0.04164245  0.38942292] (EEF)\n",
    "# [ 0.46334388 -0.04195479  0.57160527] (calculated by joint_states) -> [0.4666901  -0.04140665  0.37968513] (EEF)"
   ]
  },
  {
   "cell_type": "markdown",
   "metadata": {},
   "source": [
    "# Reverse Engineering"
   ]
  },
  {
   "cell_type": "code",
   "execution_count": 14,
   "metadata": {},
   "outputs": [
    {
     "ename": "NameError",
     "evalue": "name 'base_tool_poses' is not defined",
     "output_type": "error",
     "traceback": [
      "\u001b[0;31m---------------------------------------------------------------------------\u001b[0m",
      "\u001b[0;31mNameError\u001b[0m                                 Traceback (most recent call last)",
      "Cell \u001b[0;32mIn[14], line 4\u001b[0m\n\u001b[1;32m      1\u001b[0m \u001b[38;5;66;03m# current link gripper -> tcp_link rpy 0,0,0\u001b[39;00m\n\u001b[1;32m      2\u001b[0m \u001b[38;5;66;03m# target link gripper -> target rpy\u001b[39;00m\n\u001b[0;32m----> 4\u001b[0m target \u001b[38;5;241m=\u001b[39m \u001b[43mbase_tool_poses\u001b[49m[idx\u001b[38;5;241m-\u001b[39m\u001b[38;5;241m1\u001b[39m][\u001b[38;5;241m3\u001b[39m:]\n\u001b[1;32m      5\u001b[0m target \u001b[38;5;241m=\u001b[39m quat2r(target)\n\u001b[1;32m      7\u001b[0m base \u001b[38;5;241m=\u001b[39m env\u001b[38;5;241m.\u001b[39mget_R_body(body_name\u001b[38;5;241m=\u001b[39m\u001b[38;5;124m'\u001b[39m\u001b[38;5;124mlink_gripper\u001b[39m\u001b[38;5;124m'\u001b[39m)\n",
      "\u001b[0;31mNameError\u001b[0m: name 'base_tool_poses' is not defined"
     ]
    }
   ],
   "source": [
    "# current link gripper -> tcp_link rpy 0,0,0\n",
    "# target link gripper -> target rpy\n",
    "\n",
    "target = base_tool_poses[idx-1][3:]\n",
    "target = quat2r(target)\n",
    "\n",
    "base = env.get_R_body(body_name='link_gripper')\n",
    "current = env.get_R_body(body_name='tcp_link')\n",
    "\n",
    "R = current.T@base\n",
    "rpy = r2rpy(R)\n",
    "# print(rpy)\n",
    "\n",
    "R = base.T@target\n",
    "rpy = r2rpy(R)\n",
    "# print(rpy)\n",
    "print(rpy2quat(rpy))\n",
    "\n",
    "\n",
    "'''\n",
    "[-5.27306031e-17  9.32701387e-17  1.57079633e+00]\n",
    "[ 1.48438446e-03  1.39833212e-01 -1.50792732e+00]\n",
    "[ 0.72716463  0.04836099  0.05041956 -0.68289874]\n",
    "[ 0.70710678  0.          0.         -0.70710678]\n",
    "\n",
    "\n",
    "[9.99735615e-01 2.21498574e-02 9.10323765e-04 6.10366593e-03]\n",
    "'''"
   ]
  },
  {
   "cell_type": "code",
   "execution_count": 53,
   "metadata": {},
   "outputs": [
    {
     "name": "stdout",
     "output_type": "stream",
     "text": [
      "Number of invalid occurrences for each joint:\n",
      "Joint 0: 0 invalid states\n",
      "Joint 1: 0 invalid states\n",
      "Joint 2: 0 invalid states\n",
      "Joint 3: 55 invalid states\n",
      "Joint 4: 0 invalid states\n",
      "Joint 5: 0 invalid states\n",
      "Joint 6: 0 invalid states\n"
     ]
    }
   ],
   "source": [
    "ranges = env.joint_ranges\n",
    "\n",
    "invalid_counts = [0] * len(ranges)\n",
    "\n",
    "for state in joint_states:\n",
    "    joint_values = state.numpy()\n",
    "    \n",
    "    for j, (value, joint_range) in enumerate(zip(joint_values, ranges)):\n",
    "        min_val, max_val = joint_range\n",
    "        if not (min_val <= value <= max_val):\n",
    "            invalid_counts[j] += 1\n",
    "\n",
    "print(\"Number of invalid occurrences for each joint:\")\n",
    "for j, count in enumerate(invalid_counts):\n",
    "    print(f\"Joint {j}: {count} invalid states\")"
   ]
  },
  {
   "cell_type": "code",
   "execution_count": 54,
   "metadata": {},
   "outputs": [
    {
     "name": "stdout",
     "output_type": "stream",
     "text": [
      "Joint 0 range: [-0.0203, 0.1721]\n",
      "Joint 1 range: [0.0135, 0.3977]\n",
      "Joint 2 range: [-0.0379, 0.1186]\n",
      "Joint 3 range: [1.1062, 1.5377]\n",
      "Joint 4 range: [0.0313, 0.0399]\n",
      "Joint 5 range: [0.7821, 1.5530]\n",
      "Joint 6 range: [-0.0225, -0.0063]\n"
     ]
    }
   ],
   "source": [
    "num_joints = len(env.joint_ranges)  # Excluding last 2 joints\n",
    "min_vals = [float('inf')] * num_joints\n",
    "max_vals = [float('-inf')] * num_joints\n",
    "\n",
    "for state in joint_states:\n",
    "    joint_values = state.numpy()\n",
    "    for j in range(num_joints):\n",
    "        min_vals[j] = min(min_vals[j], joint_values[j])\n",
    "        max_vals[j] = max(max_vals[j], joint_values[j])\n",
    "\n",
    "for j in range(num_joints):\n",
    "    print(f\"Joint {j} range: [{min_vals[j]:.4f}, {max_vals[j]:.4f}]\")"
   ]
  },
  {
   "cell_type": "code",
   "execution_count": 55,
   "metadata": {},
   "outputs": [
    {
     "data": {
      "text/plain": [
       "array([[-2.7437,  2.7437],\n",
       "       [-1.7837,  1.7837],\n",
       "       [-2.9007,  2.9007],\n",
       "       [-3.0421, -0.1518],\n",
       "       [-2.8065,  2.8065],\n",
       "       [ 0.5445,  4.5169],\n",
       "       [-3.0159,  3.0159]])"
      ]
     },
     "execution_count": 55,
     "metadata": {},
     "output_type": "execute_result"
    }
   ],
   "source": [
    "env.joint_ranges"
   ]
  },
  {
   "cell_type": "code",
   "execution_count": null,
   "metadata": {},
   "outputs": [],
   "source": []
  }
 ],
 "metadata": {
  "kernelspec": {
   "display_name": "robotics",
   "language": "python",
   "name": "python3"
  },
  "language_info": {
   "codemirror_mode": {
    "name": "ipython",
    "version": 3
   },
   "file_extension": ".py",
   "mimetype": "text/x-python",
   "name": "python",
   "nbconvert_exporter": "python",
   "pygments_lexer": "ipython3",
   "version": "3.9.21"
  }
 },
 "nbformat": 4,
 "nbformat_minor": 2
}

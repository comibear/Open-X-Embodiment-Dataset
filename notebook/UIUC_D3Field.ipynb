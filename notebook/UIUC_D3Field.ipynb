{
 "cells": [
  {
   "cell_type": "markdown",
   "metadata": {},
   "source": [
    "# DATASET"
   ]
  },
  {
   "cell_type": "code",
   "execution_count": 9,
   "metadata": {},
   "outputs": [
    {
     "name": "stdout",
     "output_type": "stream",
     "text": [
      "MuJoCo:[3.1.6]\n"
     ]
    }
   ],
   "source": [
    "import numpy as np\n",
    "import tensorflow_datasets as tfds\n",
    "import tqdm\n",
    "from PIL import Image\n",
    "from IPython import display\n",
    "\n",
    "import mujoco,sys\n",
    "import numpy as np\n",
    "import matplotlib.pyplot as plt\n",
    "\n",
    "sys.path.append('../package/')\n",
    "sys.path.append('../package/helper/')\n",
    "sys.path.append('../package/mujoco_usage/')\n",
    "\n",
    "from mujoco_parser import *\n",
    "from transformation import *\n",
    "from slider import *\n",
    "from utility import *\n",
    "from utils import *\n",
    "\n",
    "%config InlineBackend.figure_format = 'retina'\n",
    "%matplotlib inline\n",
    "print (\"MuJoCo:[%s]\"%(mujoco.__version__))"
   ]
  },
  {
   "cell_type": "code",
   "execution_count": 10,
   "metadata": {},
   "outputs": [
    {
     "name": "stderr",
     "output_type": "stream",
     "text": [
      "2025-02-02 17:00:11.250970: W external/local_tsl/tsl/platform/cloud/google_auth_provider.cc:184] All attempts to get a Google authentication bearer token failed, returning an empty token. Retrieving token from files failed with \"NOT_FOUND: Could not locate the credentials file.\". Retrieving token from GCE failed with \"FAILED_PRECONDITION: Error executing an HTTP request: libcurl code 6 meaning 'Couldn't resolve host name', error details: Could not resolve host: metadata.google.internal\".\n"
     ]
    },
    {
     "name": "stdout",
     "output_type": "stream",
     "text": [
      "FeaturesDict({\n",
      "    'episode_metadata': FeaturesDict({\n",
      "        'file_path': Text(shape=(), dtype=string),\n",
      "    }),\n",
      "    'steps': Dataset({\n",
      "        'action': Tensor(shape=(3,), dtype=float32),\n",
      "        'discount': Scalar(shape=(), dtype=float32),\n",
      "        'is_first': bool,\n",
      "        'is_last': bool,\n",
      "        'is_terminal': bool,\n",
      "        'language_embedding': Tensor(shape=(512,), dtype=float32),\n",
      "        'language_instruction': Text(shape=(), dtype=string),\n",
      "        'observation': FeaturesDict({\n",
      "            'depth_1': Image(shape=(360, 640, 1), dtype=uint16),\n",
      "            'depth_2': Image(shape=(360, 640, 1), dtype=uint16),\n",
      "            'depth_3': Image(shape=(360, 640, 1), dtype=uint16),\n",
      "            'depth_4': Image(shape=(360, 640, 1), dtype=uint16),\n",
      "            'image_1': Image(shape=(360, 640, 3), dtype=uint8),\n",
      "            'image_2': Image(shape=(360, 640, 3), dtype=uint8),\n",
      "            'image_3': Image(shape=(360, 640, 3), dtype=uint8),\n",
      "            'image_4': Image(shape=(360, 640, 3), dtype=uint8),\n",
      "            'state': Tensor(shape=(4, 4), dtype=float32),\n",
      "        }),\n",
      "        'reward': Scalar(shape=(), dtype=float32),\n",
      "    }),\n",
      "})\n"
     ]
    }
   ],
   "source": [
    "dataset = DATASETS[47] # uiuc_d3field\n",
    "display_key = 'image_1'\n",
    "\n",
    "ds, iterator = get_dataset(dataset, display_key=display_key)"
   ]
  },
  {
   "cell_type": "code",
   "execution_count": 11,
   "metadata": {},
   "outputs": [
    {
     "name": "stderr",
     "output_type": "stream",
     "text": [
      "2025-02-02 17:00:16.125302: I tensorflow/core/kernels/data/tf_record_dataset_op.cc:376] The default buffer size is 262144, which is overridden by the user specified `buffer_size` of 8388608\n",
      "2025-02-02 17:02:02.358344: I tensorflow/core/kernels/data/shuffle_dataset_op.cc:450] ShuffleDatasetV3:6: Filling up shuffle buffer (this may take a while): 1 of 10\n",
      "2025-02-02 17:02:17.569886: I tensorflow/core/kernels/data/shuffle_dataset_op.cc:450] ShuffleDatasetV3:6: Filling up shuffle buffer (this may take a while): 4 of 10\n",
      "2025-02-02 17:02:50.712064: I tensorflow/core/kernels/data/shuffle_dataset_op.cc:450] ShuffleDatasetV3:6: Filling up shuffle buffer (this may take a while): 8 of 10\n",
      "2025-02-02 17:02:58.678390: I tensorflow/core/kernels/data/shuffle_dataset_op.cc:480] Shuffle buffer filled.\n",
      "2025-02-02 17:02:58.753496: I tensorflow/core/framework/local_rendezvous.cc:405] Local rendezvous is aborting with status: OUT_OF_RANGE: End of sequence\n"
     ]
    },
    {
     "name": "stdout",
     "output_type": "stream",
     "text": [
      "MoviePy - Building video output.mp4.\n",
      "MoviePy - Writing video output.mp4\n",
      "\n"
     ]
    },
    {
     "name": "stderr",
     "output_type": "stream",
     "text": [
      "                                                             "
     ]
    },
    {
     "name": "stdout",
     "output_type": "stream",
     "text": [
      "MoviePy - Done !\n",
      "MoviePy - video ready output.mp4\n"
     ]
    },
    {
     "name": "stderr",
     "output_type": "stream",
     "text": [
      "\r"
     ]
    }
   ],
   "source": [
    "episode = next(iterator)\n",
    "images = get_image_from_episode(episode, display_key=display_key)\n",
    "\n",
    "import os\n",
    "from PIL import Image\n",
    "import numpy as np\n",
    "os.environ[\"IMAGEIO_FFMPEG_EXE\"] = \"/opt/homebrew/bin/ffmpeg\"\n",
    "\n",
    "from moviepy import *\n",
    "\n",
    "frames = [np.array(img.convert('RGB')) for img in images]\n",
    "clip = ImageSequenceClip(frames, fps=3)\n",
    "clip.write_videofile(\"output.mp4\", codec='libx264', audio=False)"
   ]
  },
  {
   "cell_type": "code",
   "execution_count": 12,
   "metadata": {},
   "outputs": [],
   "source": [
    "from PIL import Image\n",
    "import numpy as np\n",
    "import matplotlib.pyplot as plt\n",
    "\n",
    "def arr2image(array):\n",
    "    \"\"\"\n",
    "    Displays a NumPy array (h, w, c) as an image.\n",
    "    \"\"\"\n",
    "    # Check the array shape and type\n",
    "    if len(array.shape) != 3 or array.shape[2] not in [3, 4]:\n",
    "        raise ValueError(\"Input array must have shape (h, w, c) with c=3 (RGB) or c=4 (RGBA).\")\n",
    "    \n",
    "    # Display the image using matplotlib\n",
    "    plt.imshow(array)\n",
    "    plt.axis('off')  # Turn off axis\n",
    "    plt.show()"
   ]
  },
  {
   "cell_type": "markdown",
   "metadata": {},
   "source": [
    "# EPISODE"
   ]
  },
  {
   "cell_type": "code",
   "execution_count": 13,
   "metadata": {},
   "outputs": [
    {
     "name": "stderr",
     "output_type": "stream",
     "text": [
      "2025-02-02 17:03:21.444424: I tensorflow/core/framework/local_rendezvous.cc:405] Local rendezvous is aborting with status: OUT_OF_RANGE: End of sequence\n"
     ]
    }
   ],
   "source": [
    "iter_steps = iter(episode['steps'])\n",
    "states = [state['observation']['state'] for state in iter_steps] # Joint states"
   ]
  },
  {
   "cell_type": "code",
   "execution_count": 14,
   "metadata": {},
   "outputs": [],
   "source": [
    "def get_R_xyz_from_T(T):\n",
    "    \"\"\"\n",
    "    Extract rotation matrix R and xyz coordinates from a flattened 4x4 homogeneous transformation matrix T\n",
    "    \n",
    "    Args:\n",
    "        T: 16-element array representing flattened 4x4 transformation matrix\n",
    "        \n",
    "    Returns:\n",
    "        R: 3x3 rotation matrix\n",
    "        xyz: 3x1 position vector\n",
    "    \"\"\"\n",
    "    \n",
    "    # Extract rotation matrix (top-left 3x3)\n",
    "    R = T[:3, :3]\n",
    "    \n",
    "    # Extract xyz coordinates (first 3 elements of last column)\n",
    "    xyz = T[:3, 3]\n",
    "    \n",
    "    return R, xyz"
   ]
  },
  {
   "cell_type": "code",
   "execution_count": 15,
   "metadata": {},
   "outputs": [],
   "source": [
    "eef_states = [np.concatenate([xyz, r2rpy(R)]) for R, xyz in [get_R_xyz_from_T(state) for state in states]]"
   ]
  },
  {
   "cell_type": "markdown",
   "metadata": {},
   "source": [
    "# ENV"
   ]
  },
  {
   "cell_type": "code",
   "execution_count": 17,
   "metadata": {},
   "outputs": [],
   "source": [
    "xml_path = '../mujoco_menagerie/kinova_gen3/scene.xml'\n",
    "env = MuJoCoParserClass(name='Tabletop',rel_xml_path=xml_path,verbose=False)"
   ]
  },
  {
   "cell_type": "markdown",
   "metadata": {},
   "source": [
    "# CONTROL"
   ]
  },
  {
   "cell_type": "code",
   "execution_count": 10,
   "metadata": {},
   "outputs": [
    {
     "name": "stderr",
     "output_type": "stream",
     "text": [
      "2025-02-02 16:57:56.065 python[17000:533069] +[IMKClient subclass]: chose IMKClient_Modern\n",
      "2025-02-02 16:57:56.065 python[17000:533069] +[IMKInputSession subclass]: chose IMKInputSession_Modern\n",
      "2025-02-02 16:58:00.781 python[17000:533069] TSM AdjustCapsLockLEDForKeyTransitionHandling - _ISSetPhysicalKeyboardCapsLockLED Inhibit\n"
     ]
    }
   ],
   "source": [
    "# Visualize environment with initial pose from trajectory\n",
    "env.init_viewer()\n",
    "\n",
    "joint_names = env.joint_names\n",
    "\n",
    "q0 = np.array([0.0,             # Joint 1 \n",
    "               1.1426,          # Joint 2\n",
    "               -0.0002,         # Joint 3 \n",
    "               1.1451,          # Joint 4\n",
    "               -0.0001,         # Joint 5\n",
    "               0.9371,          # Joint 6\n",
    "               0.0000])         # Joint 7\n",
    "\n",
    "env.reset()\n",
    "env.forward(q=q0, joint_names=joint_names)\n",
    "\n",
    "while env.is_viewer_alive():\n",
    "  if env.loop_every(tick_every=10):\n",
    "    env.plot_T(\n",
    "        T=env.get_T_body(body_name='base_link'),\n",
    "        axis_len=0.5,print_xyz=False)\n",
    "    \n",
    "    env.plot_body_T(body_name='tcp_link',axis_len=0.1,axis_width=0.005)\n",
    "    env.plot_contact_info(\n",
    "        r_arrow=0.005,h_arrow=0.1,rgba_contact=(1,0,0,0.5),plot_sphere=False)\n",
    "    \n",
    "    env.render()\n",
    "\n",
    "env.close_viewer()"
   ]
  },
  {
   "cell_type": "code",
   "execution_count": 26,
   "metadata": {},
   "outputs": [
    {
     "ename": "",
     "evalue": "",
     "output_type": "error",
     "traceback": [
      "\u001b[1;31m현재 셀 또는 이전 셀에서 코드를 실행하는 동안 Kernel이 충돌했습니다. \n",
      "\u001b[1;31m셀의 코드를 검토하여 가능한 오류 원인을 식별하세요. \n",
      "\u001b[1;31m자세한 내용을 보려면 <a href='https://aka.ms/vscodeJupyterKernelCrash'>여기</a>를 클릭하세요. \n",
      "\u001b[1;31m자세한 내용은 Jupyter <a href='command:jupyter.viewOutput'>로그</a>를 참조하세요."
     ]
    }
   ],
   "source": [
    "sliders = MultiSliderClass( # Slider for EE control\n",
    "    n_slider      = 7,\n",
    "    title         = 'Sliders for [%s] Control'%(env.name),\n",
    "    window_width  = 450,\n",
    "    window_height = 300,\n",
    "    x_offset      = 0,\n",
    "    y_offset      = 100,\n",
    "    slider_width  = 300,\n",
    "    label_texts   = ['X','Y','Z','Roll-deg','Pitch-deg','Yaw-deg','Gripper'],\n",
    "    slider_mins   = [-1,-1,0,-180,-180,-180,0],\n",
    "    slider_maxs   = [+1,+1,1.2,+180,+180,+180,255],\n",
    "    slider_vals   = [0,0,0,0,0,0,0],\n",
    "    resolutions   = [0.02,0.02,0.02,3.6,3.6,3.6,0.04], # range/50\n",
    "    verbose       = False,\n",
    ")\n",
    "\n",
    "joint_names = env.joint_names\n",
    "\n",
    "# Don't Know Why.....\n",
    "# q0 = np.array([0, -1, 0, 1, 6, 1.7, 0])\n",
    "\n",
    "q0 = np.zeros(len(joint_names), dtype=float)\n",
    "#q0 = q_traj[60]\n",
    "\n",
    "env.init_viewer(\n",
    "    title       = 'Tabletop',\n",
    "    transparent = False,\n",
    "    azimuth     = 133,\n",
    "    distance    = 3.5,\n",
    "    elevation   = -42.4,\n",
    "    lookat      = (-0.06,0.07,0.31),\n",
    ")\n",
    "\n",
    "env.reset() # reset\n",
    "env.forward(q=q0,joint_names=joint_names) # initial position\n",
    "\n",
    "p0 = env.get_p_body(body_name='tcp_link')\n",
    "R0 = env.get_R_body(body_name='tcp_link')\n",
    "\n",
    "# Loop\n",
    "q_ik_init = q0.copy()\n",
    "while env.is_viewer_alive():\n",
    "    \n",
    "    # Update\n",
    "    sliders.update() # update slider\n",
    "    xyzrpyg = sliders.get_slider_values()\n",
    "    qpos,ik_err_stack,ik_info = solve_ik(\n",
    "        env                = env,\n",
    "        joint_names_for_ik = joint_names,\n",
    "        body_name_trgt     = 'tcp_link',\n",
    "        q_init             = q_ik_init,\n",
    "        p_trgt             = xyzrpyg[:3]+p0,\n",
    "        R_trgt             = rpy_deg2r(xyzrpyg[3:6])@R0,\n",
    "        max_ik_tick        = 500,\n",
    "        ik_stepsize        = 1.0,\n",
    "        ik_eps             = 1e-2,\n",
    "        ik_th              = np.radians(5.0),\n",
    "        render             = False,\n",
    "        verbose_warning    = False,\n",
    "    )\n",
    "    ik_err = np.abs(ik_err_stack).max() # IK error\n",
    "    if ik_err < 1e-2: q_ik_init = qpos.copy()\n",
    "    else: q_ik_init = q0.copy()\n",
    "    \n",
    "    env.step( # dynamic update\n",
    "        ctrl        = qpos, #np.append(np.append(qpos,xyzrpyg[6]),xyzrpyg[6]),s\n",
    "        joint_names = joint_names\n",
    "    )\n",
    "    \n",
    "    # Render \n",
    "    if env.loop_every(tick_every=10):\n",
    "        env.plot_T(\n",
    "            T=env.get_T_body(body_name='base_link'),\n",
    "            axis_len=0.5,print_xyz=False)\n",
    "        env.plot_text(\n",
    "            p=env.get_p_body(body_name='base_link')+np.array([0,0,0.5]),\n",
    "            label = 'time:[%.2f]sec ik_err:[%.3f]'%(env.get_sim_time(),ik_err))\n",
    "        env.plot_body_T(body_name='tcp_link',axis_len=0.1,axis_width=0.005)\n",
    "        env.plot_contact_info(\n",
    "            r_arrow=0.005,h_arrow=0.1,rgba_contact=(1,0,0,0.5),plot_sphere=False)\n",
    "        plot_ik_info(env=env,ik_info=ik_info)\n",
    "        \n",
    "        env.render()\n",
    "\n",
    "# Close\n",
    "env.close_viewer()\n",
    "sliders.close()\n",
    "print (\"Done.\")"
   ]
  },
  {
   "cell_type": "code",
   "execution_count": 7,
   "metadata": {},
   "outputs": [
    {
     "data": {
      "text/plain": [
       "array([[-2.24,  2.24],\n",
       "       [-2.24,  2.24],\n",
       "       [-2.57,  2.57],\n",
       "       [-2.57,  2.57],\n",
       "       [-2.09,  2.09],\n",
       "       [-2.09,  2.09],\n",
       "       [-2.09,  2.09]])"
      ]
     },
     "execution_count": 7,
     "metadata": {},
     "output_type": "execute_result"
    }
   ],
   "source": [
    "env.joint_ranges"
   ]
  },
  {
   "cell_type": "code",
   "execution_count": 8,
   "metadata": {},
   "outputs": [
    {
     "name": "stderr",
     "output_type": "stream",
     "text": [
      "2025-02-02 16:59:39.748 python[17077:538529] _TIPropertyValueIsValid called with 16 on nil context!\n",
      "2025-02-02 16:59:39.748 python[17077:538529] imkxpc_getApplicationProperty:reply: called with incorrect property value 16, bailing.\n",
      "2025-02-02 16:59:39.748 python[17077:538529] Text input context does not respond to _valueForTIProperty:\n"
     ]
    },
    {
     "name": "stdout",
     "output_type": "stream",
     "text": [
      "Done.\n"
     ]
    }
   ],
   "source": [
    "sliders = MultiSliderClass( # Slider for joint control\n",
    "    n_slider      = 8,\n",
    "    title         = 'Sliders for [%s] Control'%(env.name),\n",
    "    window_width  = 450,\n",
    "    window_height = 300,\n",
    "    x_offset      = 0,\n",
    "    y_offset      = 100,\n",
    "    slider_width  = 300,\n",
    "    label_texts   = ['Joint 1', 'Joint 2', 'Joint 3', 'Joint 4', 'Joint 5', 'Joint 6', 'Joint 7', 'Gripper'],\n",
    "    slider_mins   = np.degrees(env.joint_ranges[:,0]).tolist() + [0], # Convert joint ranges from radians to degrees\n",
    "    slider_maxs   = np.degrees(env.joint_ranges[:,1]).tolist() + [255],\n",
    "    slider_vals   = [0, 0, 0, 0, 0, 0, 0, 0],\n",
    "    resolutions   = [(max-min)/50 for min,max in zip(np.degrees(env.joint_ranges[:,0]).tolist() + [0], \n",
    "                                                    np.degrees(env.joint_ranges[:,1]).tolist() + [255])],\n",
    "    verbose       = False,\n",
    ")\n",
    "\n",
    "joint_names = env.joint_names\n",
    "q0 = np.array([0.0,             # Joint 1 \n",
    "               1.1426,          # Joint 2\n",
    "               -0.0002,         # Joint 3 \n",
    "               1.1451,          # Joint 4\n",
    "               -0.0001,         # Joint 5\n",
    "               0.9371,          # Joint 6\n",
    "               0.0000])         # Joint 7\n",
    "\n",
    "#   q0 = np.zeros(len(joint_names), dtype=float)\n",
    "\n",
    "env.init_viewer(\n",
    "    title       = 'Tabletop',\n",
    "    transparent = False,\n",
    "    azimuth     = 133,\n",
    "    distance    = 3.5,\n",
    "    elevation   = -42.4,\n",
    "    lookat      = (-0.06,0.07,0.31),\n",
    ")\n",
    "env.reset() # reset\n",
    "env.forward(q=q0,joint_names=joint_names) # initial position\n",
    "\n",
    "# Loop\n",
    "while env.is_viewer_alive():\n",
    "    \n",
    "    # Update\n",
    "    sliders.update() # update slider\n",
    "    joint_values = sliders.get_slider_values()\n",
    "    \n",
    "    # Convert degrees to radians for joint angles\n",
    "    qpos = np.radians(joint_values[:7])\n",
    "    \n",
    "    env.forward( # static update\n",
    "        q           = qpos, # Last value is gripper\n",
    "        joint_names = joint_names\n",
    "    )\n",
    "    \n",
    "    # Render \n",
    "    if env.loop_every(tick_every=10):\n",
    "        env.plot_T(\n",
    "            T=env.get_T_body(body_name='base_link'),\n",
    "            axis_len=0.5,print_xyz=False)\n",
    "        env.plot_text(\n",
    "            p=env.get_p_body(body_name='base_link')+np.array([0,0,0.5]),\n",
    "            label = 'time:[%.2f]sec'%(env.get_sim_time()))\n",
    "        env.plot_body_T(body_name='tcp_link',axis_len=0.1,axis_width=0.005)\n",
    "        env.plot_contact_info(\n",
    "            r_arrow=0.005,h_arrow=0.1,rgba_contact=(1,0,0,0.5),plot_sphere=False)\n",
    "        \n",
    "        env.render()\n",
    "\n",
    "# Close\n",
    "env.close_viewer()\n",
    "sliders.close()\n",
    "print (\"Done.\")"
   ]
  },
  {
   "cell_type": "markdown",
   "metadata": {},
   "source": [
    "# Trajectory"
   ]
  },
  {
   "cell_type": "markdown",
   "metadata": {},
   "source": [
    "### 1) genration"
   ]
  },
  {
   "cell_type": "code",
   "execution_count": 18,
   "metadata": {},
   "outputs": [],
   "source": [
    "joint_names = env.joint_names\n",
    "q0 = np.array([0.0,             # Joint 1 \n",
    "               1.1426,          # Joint 2\n",
    "               -0.0002,         # Joint 3 \n",
    "               1.1451,          # Joint 4\n",
    "               -0.0001,         # Joint 5\n",
    "               0.9371,          # Joint 6\n",
    "               0.0000])         # Joint 7\n",
    "\n",
    "#q0 = np.zeros_like(joint_names, dtype=float)\n",
    "\n",
    "q_traj = []\n",
    "\n",
    "q_ik_init = q0.copy()\n",
    "for ik_target in eef_states:\n",
    "\n",
    "    qpos,ik_err_stack,ik_info = solve_ik(\n",
    "        env                = env,\n",
    "        joint_names_for_ik = joint_names,\n",
    "        body_name_trgt     = 'tcp_link',\n",
    "        q_init             = q_ik_init,\n",
    "        p_trgt             = ik_target[:3],\n",
    "        R_trgt             = rpy2r(ik_target[3:]),\n",
    "        max_ik_tick        = 500,\n",
    "        ik_stepsize        = 1.0,\n",
    "        ik_eps             = 1e-2,\n",
    "        ik_th              = np.radians(5.0),\n",
    "        render             = False,\n",
    "        verbose_warning    = False,\n",
    "    )\n",
    "\n",
    "    ik_err = np.abs(ik_err_stack).max() # IK error\n",
    "    if ik_err < 1e-2: q_ik_init = qpos.copy()\n",
    "    else: q_ik_init = q0.copy()\n",
    "    \n",
    "    # print(ik_err, ik_target[:3], rot_target)\n",
    "    q_traj.append(qpos)"
   ]
  },
  {
   "cell_type": "markdown",
   "metadata": {},
   "source": [
    "### 2) Comparing"
   ]
  },
  {
   "cell_type": "code",
   "execution_count": 27,
   "metadata": {},
   "outputs": [
    {
     "ename": "",
     "evalue": "",
     "output_type": "error",
     "traceback": [
      "\u001b[1;31m현재 셀 또는 이전 셀에서 코드를 실행하는 동안 Kernel이 충돌했습니다. \n",
      "\u001b[1;31m셀의 코드를 검토하여 가능한 오류 원인을 식별하세요. \n",
      "\u001b[1;31m자세한 내용을 보려면 <a href='https://aka.ms/vscodeJupyterKernelCrash'>여기</a>를 클릭하세요. \n",
      "\u001b[1;31m자세한 내용은 Jupyter <a href='command:jupyter.viewOutput'>로그</a>를 참조하세요."
     ]
    }
   ],
   "source": [
    "# G -> B -> R\n",
    "\n",
    "idx = 10\n",
    "assert idx < len(frames)\n",
    "\n",
    "sliders = MultiSliderClass( # Slider for EE control\n",
    "    n_slider      = 7,\n",
    "    title         = 'Sliders for [%s] Control'%(env.name),\n",
    "    window_width  = 450,\n",
    "    window_height = 300,\n",
    "    x_offset      = 0,\n",
    "    y_offset      = 100,\n",
    "    slider_width  = 300,\n",
    "    label_texts   = ['X','Y','Z','Roll-deg','Pitch-deg','Yaw-deg','Gripper'],\n",
    "    slider_mins   = [-1,-1,0,-180,-180,-180,0],\n",
    "    slider_maxs   = [+1,+1,1.2,+180,+180,+180,2],\n",
    "    slider_vals   = [0,0,0,0,0,0,0],\n",
    "    resolutions   = [0.02,0.02,0.02,3.6,3.6,3.6,0.04], # range/50\n",
    "    verbose       = False,\n",
    ")\n",
    "\n",
    "joint_names = env.joint_names\n",
    "env.reset(step=True)\n",
    "\n",
    "q0 = q_traj[idx]\n",
    "env.forward(q=q0,joint_names=joint_names) # initial position\n",
    "\n",
    "p0 = env.get_p_body(body_name='tcp_link')\n",
    "R0 = env.get_R_body(body_name='tcp_link')\n",
    "\n",
    "env.init_viewer(\n",
    "    title       = 'Tabletop',\n",
    "    transparent = False,\n",
    "    azimuth     = 133,\n",
    "    distance    = 3.5,\n",
    "    elevation   = -42.4,\n",
    "    lookat      = (-0.06,0.07,0.31),\n",
    ")\n",
    "\n",
    "arr2image(frames[idx])\n",
    "\n",
    "# Loop\n",
    "q_ik_init = q0.copy()\n",
    "while env.is_viewer_alive():\n",
    "    \n",
    "    # Update\n",
    "    sliders.update() # update slider\n",
    "    xyzrpyg = sliders.get_slider_values()\n",
    "    qpos,ik_err_stack,ik_info = solve_ik(\n",
    "        env                = env,\n",
    "        joint_names_for_ik = joint_names,\n",
    "        body_name_trgt     = 'tcp_link',\n",
    "        q_init             = q_ik_init,\n",
    "        p_trgt             = xyzrpyg[:3]+p0,\n",
    "        R_trgt             = rpy_deg2r(xyzrpyg[3:6])@R0,\n",
    "        max_ik_tick        = 500,\n",
    "        ik_stepsize        = 1.0,\n",
    "        ik_eps             = 1e-2,\n",
    "        ik_th              = np.radians(5.0),\n",
    "        render             = False,\n",
    "        verbose_warning    = False,\n",
    "    )\n",
    "    \n",
    "    ik_err = np.abs(ik_err_stack).max() # IK error\n",
    "    if ik_err < 1e-2: q_ik_init = qpos.copy()\n",
    "    else: q_ik_init = q0.copy()\n",
    "    \n",
    "    env.step( # dynamic update\n",
    "        ctrl        = qpos,\n",
    "        joint_names = joint_names\n",
    "    )\n",
    "    \n",
    "    # Render \n",
    "    if env.loop_every(tick_every=10):\n",
    "        env.plot_T(\n",
    "            T=env.get_T_body(body_name='base_link'),\n",
    "            axis_len=0.5,print_xyz=False)\n",
    "        env.plot_text(\n",
    "            p=env.get_p_body(body_name='base_link')+np.array([0,0,0.5]),\n",
    "            label = 'time:[%.2f]sec ik_err:[%.3f]'%(env.get_sim_time(),ik_err))\n",
    "        env.plot_body_T(body_name='tcp_link',axis_len=0.1,axis_width=0.005)\n",
    "        env.plot_contact_info(\n",
    "            r_arrow=0.005,h_arrow=0.1,rgba_contact=(1,0,0,0.5),plot_sphere=False)\n",
    "        plot_ik_info(env=env,ik_info=ik_info)\n",
    "        \n",
    "        env.render()\n",
    "\n",
    "# Close\n",
    "env.close_viewer()\n",
    "sliders.close()\n",
    "print(\"Done.\")"
   ]
  },
  {
   "cell_type": "markdown",
   "metadata": {},
   "source": [
    "# Trajectory Reappearance"
   ]
  },
  {
   "cell_type": "code",
   "execution_count": 19,
   "metadata": {},
   "outputs": [
    {
     "name": "stdout",
     "output_type": "stream",
     "text": [
      "Done.\n"
     ]
    }
   ],
   "source": [
    "joint_names = env.joint_names\n",
    "q0 = np.zeros_like(joint_names, dtype=float)\n",
    "\n",
    "env.init_viewer()\n",
    "\n",
    "env.reset() # reset\n",
    "env.forward(q=q0,joint_names=joint_names) # initial position\n",
    "    \n",
    "# Loop\n",
    "q_ik_init = q0.copy()\n",
    "qpos = q_traj[0]\n",
    "idx = 0\n",
    "\n",
    "while env.is_viewer_alive():\n",
    "    env.forward(q=qpos,joint_names=joint_names)\n",
    "\n",
    "    # Render \n",
    "    if env.loop_every(HZ=0.2):\n",
    "        if idx < len(q_traj)-1:\n",
    "            idx += 1\n",
    "        else: idx = 0\n",
    "\n",
    "        qpos = q_traj[idx]\n",
    "\n",
    "        env.plot_T(\n",
    "            T=env.get_T_body(body_name='base_link'),\n",
    "            axis_len=0.5,print_xyz=False)\n",
    "        env.plot_text(\n",
    "            p=env.get_p_body(body_name='base_link')+np.array([0,0,0.5]),\n",
    "            label = 'tick:[%d]time:[%.2f]'%(idx, env.get_sim_time()))\n",
    "        env.plot_body_T(body_name='tcp_link',axis_len=0.1,axis_width=0.005)\n",
    "        \n",
    "        env.render()\n",
    "\n",
    "# Close\n",
    "env.close_viewer()\n",
    "print (\"Done.\")"
   ]
  },
  {
   "cell_type": "markdown",
   "metadata": {},
   "source": [
    "# Reverse Engineering"
   ]
  },
  {
   "cell_type": "code",
   "execution_count": 24,
   "metadata": {},
   "outputs": [
    {
     "name": "stdout",
     "output_type": "stream",
     "text": [
      "[ 0.0013409  -0.70546595  0.70874137 -0.00128742]\n"
     ]
    }
   ],
   "source": [
    "# current link gripper -> tcp_link rpy 0,0,0\n",
    "# target link gripper -> target rpy\n",
    "\n",
    "target = eef_states[idx][3:]\n",
    "target = rpy2r(target)\n",
    "\n",
    "base = env.get_R_body(body_name='bracelet_link')\n",
    "current = env.get_R_body(body_name='tcp_link')\n",
    "\n",
    "R = current.T@base\n",
    "rpy = r2rpy(R)\n",
    "# print(rpy)\n",
    "\n",
    "R = base.T@target\n",
    "rpy = r2rpy(R)\n",
    "# print(rpy)\n",
    "print(rpy2quat(rpy))"
   ]
  },
  {
   "cell_type": "code",
   "execution_count": null,
   "metadata": {},
   "outputs": [],
   "source": []
  }
 ],
 "metadata": {
  "kernelspec": {
   "display_name": "robotics",
   "language": "python",
   "name": "python3"
  },
  "language_info": {
   "codemirror_mode": {
    "name": "ipython",
    "version": 3
   },
   "file_extension": ".py",
   "mimetype": "text/x-python",
   "name": "python",
   "nbconvert_exporter": "python",
   "pygments_lexer": "ipython3",
   "version": "3.9.21"
  }
 },
 "nbformat": 4,
 "nbformat_minor": 2
}

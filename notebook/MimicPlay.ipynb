{
 "cells": [
  {
   "cell_type": "markdown",
   "metadata": {},
   "source": [
    "# DATASET\n"
   ]
  },
  {
   "cell_type": "code",
   "execution_count": 1,
   "metadata": {},
   "outputs": [
    {
     "name": "stdout",
     "output_type": "stream",
     "text": [
      "MuJoCo:[3.1.6]\n"
     ]
    }
   ],
   "source": [
    "import numpy as np\n",
    "import tensorflow_datasets as tfds\n",
    "import tqdm\n",
    "from PIL import Image\n",
    "from IPython import display\n",
    "\n",
    "import mujoco,sys\n",
    "import numpy as np\n",
    "import matplotlib.pyplot as plt\n",
    "\n",
    "sys.path.append('../package/')\n",
    "sys.path.append('../package/helper/')\n",
    "sys.path.append('../package/mujoco_usage/')\n",
    "\n",
    "from mujoco_parser import *\n",
    "from transformation import *\n",
    "from slider import *\n",
    "from utility import *\n",
    "from utils import *\n",
    "\n",
    "%config InlineBackend.figure_format = 'retina'\n",
    "%matplotlib inline\n",
    "print (\"MuJoCo:[%s]\"%(mujoco.__version__))"
   ]
  },
  {
   "cell_type": "code",
   "execution_count": 2,
   "metadata": {},
   "outputs": [
    {
     "name": "stderr",
     "output_type": "stream",
     "text": [
      "2025-02-14 18:16:30.800476: W external/local_tsl/tsl/platform/cloud/google_auth_provider.cc:184] All attempts to get a Google authentication bearer token failed, returning an empty token. Retrieving token from files failed with \"NOT_FOUND: Could not locate the credentials file.\". Retrieving token from GCE failed with \"FAILED_PRECONDITION: Error executing an HTTP request: libcurl code 6 meaning 'Couldn't resolve host name', error details: Could not resolve host: metadata.google.internal\".\n"
     ]
    }
   ],
   "source": [
    "display_key = 'image'\n",
    "\n",
    "ds = tfds.load(\"mimic_play\", split=\"train\", data_dir=\"gs://gresearch/robotics\")\n",
    "iterator = iter(ds)"
   ]
  },
  {
   "cell_type": "code",
   "execution_count": 4,
   "metadata": {},
   "outputs": [
    {
     "name": "stdout",
     "output_type": "stream",
     "text": [
      "Dataset Structure:\n",
      "├── episode_metadata\n",
      "│   └── file_path: string\n",
      "└── steps\n",
      "    ├── action: float32[7]\n",
      "    ├── discount: float32\n",
      "    ├── is_first: bool\n",
      "    ├── is_last: bool\n",
      "    ├── is_terminal: bool\n",
      "    ├── language_embedding: float32[512]\n",
      "    ├── language_instruction: string\n",
      "    ├── observation\n",
      "    │   ├── image\n",
      "    │   │   ├── front_image_1: uint8[120,120,3]\n",
      "    │   │   └── front_image_2: uint8[120,120,3]\n",
      "    │   ├── state\n",
      "    │   │   ├── ee_pose: float32[7]\n",
      "    │   │   ├── gripper_position: float32\n",
      "    │   │   ├── joint_positions: float32[7]\n",
      "    │   │   └── joint_velocities: float32[7]\n",
      "    │   └── wrist_image\n",
      "    │       └── wrist_image: uint8[120,120,3]\n",
      "    └── reward: float32\n"
     ]
    }
   ],
   "source": [
    "# Print dataset structure in a more readable format\n",
    "print(\"Dataset Structure:\")\n",
    "print(\"├── episode_metadata\")\n",
    "print(\"│   └── file_path: string\")\n",
    "print(\"└── steps\")\n",
    "print(\"    ├── action: float32[7]\")\n",
    "print(\"    ├── discount: float32\")\n",
    "print(\"    ├── is_first: bool\")\n",
    "print(\"    ├── is_last: bool\") \n",
    "print(\"    ├── is_terminal: bool\")\n",
    "print(\"    ├── language_embedding: float32[512]\")\n",
    "print(\"    ├── language_instruction: string\")\n",
    "print(\"    ├── observation\")\n",
    "print(\"    │   ├── image\")\n",
    "print(\"    │   │   ├── front_image_1: uint8[120,120,3]\")\n",
    "print(\"    │   │   └── front_image_2: uint8[120,120,3]\")\n",
    "print(\"    │   ├── state\")\n",
    "print(\"    │   │   ├── ee_pose: float32[7]\")\n",
    "print(\"    │   │   ├── gripper_position: float32\")\n",
    "print(\"    │   │   ├── joint_positions: float32[7]\")\n",
    "print(\"    │   │   └── joint_velocities: float32[7]\")\n",
    "print(\"    │   └── wrist_image\")\n",
    "print(\"    │       └── wrist_image: uint8[120,120,3]\")\n",
    "print(\"    └── reward: float32\")"
   ]
  },
  {
   "cell_type": "code",
   "execution_count": 3,
   "metadata": {},
   "outputs": [
    {
     "name": "stderr",
     "output_type": "stream",
     "text": [
      "2025-01-28 18:00:02.240004: I tensorflow/core/kernels/data/tf_record_dataset_op.cc:376] The default buffer size is 262144, which is overridden by the user specified `buffer_size` of 8388608\n",
      "2025-01-28 18:05:46.959239: I tensorflow/core/framework/local_rendezvous.cc:405] Local rendezvous is aborting with status: OUT_OF_RANGE: End of sequence\n",
      "2025-01-28 18:12:07.691920: I tensorflow/core/framework/local_rendezvous.cc:405] Local rendezvous is aborting with status: OUT_OF_RANGE: End of sequence\n"
     ]
    },
    {
     "name": "stdout",
     "output_type": "stream",
     "text": [
      "MoviePy - Building video output.mp4.\n",
      "MoviePy - Writing video output.mp4\n",
      "\n"
     ]
    },
    {
     "name": "stderr",
     "output_type": "stream",
     "text": [
      "                                                                          "
     ]
    },
    {
     "name": "stdout",
     "output_type": "stream",
     "text": [
      "MoviePy - Done !\n",
      "MoviePy - video ready output.mp4\n"
     ]
    },
    {
     "name": "stderr",
     "output_type": "stream",
     "text": [
      "\r"
     ]
    }
   ],
   "source": [
    "images = []\n",
    "for episode in ds.take(1):\n",
    "  for i, step in enumerate(episode[\"steps\"]):\n",
    "    images.append(\n",
    "      Image.fromarray(\n",
    "        np.concatenate((\n",
    "              step[\"observation\"][\"image\"][\"front_image_1\"].numpy(),\n",
    "              step[\"observation\"][\"image\"][\"front_image_2\"].numpy(),\n",
    "        ), axis=1)\n",
    "      )\n",
    "    )\n",
    "\n",
    "import os\n",
    "from PIL import Image\n",
    "import numpy as np\n",
    "os.environ[\"IMAGEIO_FFMPEG_EXE\"] = \"/opt/homebrew/bin/ffmpeg\"\n",
    "\n",
    "from moviepy import *\n",
    "\n",
    "frames = [np.array(img.convert('RGB')) for img in images]\n",
    "clip = ImageSequenceClip(frames, fps=3)\n",
    "clip.write_videofile(\"output.mp4\", codec='libx264', audio=False)"
   ]
  },
  {
   "cell_type": "code",
   "execution_count": 4,
   "metadata": {},
   "outputs": [],
   "source": [
    "from PIL import Image\n",
    "import numpy as np\n",
    "import matplotlib.pyplot as plt\n",
    "\n",
    "def arr2image(array):\n",
    "    \"\"\"\n",
    "    Displays a NumPy array (h, w, c) as an image.\n",
    "    \"\"\"\n",
    "    # Check the array shape and type\n",
    "    if len(array.shape) != 3 or array.shape[2] not in [3, 4]:\n",
    "        raise ValueError(\"Input array must have shape (h, w, c) with c=3 (RGB) or c=4 (RGBA).\")\n",
    "    \n",
    "    # Display the image using matplotlib\n",
    "    plt.imshow(array)\n",
    "    plt.axis('off')  # Turn off axis\n",
    "    plt.show()"
   ]
  },
  {
   "cell_type": "markdown",
   "metadata": {},
   "source": [
    "# EPISODE\n"
   ]
  },
  {
   "cell_type": "code",
   "execution_count": 5,
   "metadata": {},
   "outputs": [
    {
     "name": "stderr",
     "output_type": "stream",
     "text": [
      "2025-01-28 18:17:26.599446: I tensorflow/core/framework/local_rendezvous.cc:405] Local rendezvous is aborting with status: OUT_OF_RANGE: End of sequence\n"
     ]
    }
   ],
   "source": [
    "episode = next(iterator)\n",
    "\n",
    "iter_steps = iter(episode['steps'])\n",
    "eef_states = [state['observation']['state']['ee_pose'] for state in iter_steps] # Joint states\n",
    "\n",
    "iter_steps = iter(episode['steps'])\n",
    "joint_states = [state['observation']['state']['joint_positions'] for state in iter_steps]"
   ]
  },
  {
   "cell_type": "markdown",
   "metadata": {},
   "source": [
    "# ENV\n"
   ]
  },
  {
   "cell_type": "code",
   "execution_count": 30,
   "metadata": {},
   "outputs": [],
   "source": [
    "xml_path = '../mujoco_menagerie/franka_emika_panda/scene_mimic.xml'\n",
    "env = MuJoCoParserClass(name='Tabletop',rel_xml_path=xml_path,verbose=False)"
   ]
  },
  {
   "cell_type": "markdown",
   "metadata": {},
   "source": [
    "# CONTROL\n"
   ]
  },
  {
   "cell_type": "code",
   "execution_count": 73,
   "metadata": {},
   "outputs": [],
   "source": [
    "# Visualize environment with initial pose from trajectory\n",
    "env.init_viewer(\n",
    "    title='Tabletop',\n",
    "    transparent=False,\n",
    "    azimuth=133,\n",
    "    distance=3.5,\n",
    "    elevation=-42.4,\n",
    "    lookat=(-0.06,0.07,0.31),\n",
    ")\n",
    "\n",
    "joint_names = ['joint1','joint2','joint3','joint4','joint5','joint6','joint7']\n",
    "\n",
    "env.reset()\n",
    "env.forward(q=joint_states[60], joint_names=joint_names)\n",
    "\n",
    "while env.is_viewer_alive():\n",
    "  if env.loop_every(tick_every=10):\n",
    "    env.plot_T(\n",
    "        T=env.get_T_body(body_name='link_base'),\n",
    "        axis_len=0.5,print_xyz=False)\n",
    "    env.plot_text(\n",
    "        p=env.get_p_body(body_name='link_base')+np.array([0,0,0.5]),\n",
    "        label = 'time:[%.2f]sec ik_err:[%.3f]'%(env.get_sim_time(),ik_err))\n",
    "    \n",
    "    env.plot_body_T(body_name='tcp_link',axis_len=0.1,axis_width=0.005)\n",
    "    env.plot_contact_info(\n",
    "        r_arrow=0.005,h_arrow=0.1,rgba_contact=(1,0,0,0.5),plot_sphere=False)\n",
    "    \n",
    "    env.render()\n",
    "\n",
    "env.close_viewer()"
   ]
  },
  {
   "cell_type": "code",
   "execution_count": 74,
   "metadata": {},
   "outputs": [
    {
     "name": "stdout",
     "output_type": "stream",
     "text": [
      "Done.\n"
     ]
    }
   ],
   "source": [
    "sliders = MultiSliderClass( # Slider for EE control\n",
    "    n_slider      = 7,\n",
    "    title         = 'Sliders for [%s] Control'%(env.name),\n",
    "    window_width  = 450,\n",
    "    window_height = 300,\n",
    "    x_offset      = 0,\n",
    "    y_offset      = 100,\n",
    "    slider_width  = 300,\n",
    "    label_texts   = ['X','Y','Z','Roll-deg','Pitch-deg','Yaw-deg','Gripper'],\n",
    "    slider_mins   = [-1,-1,0,-180,-180,-180,0],\n",
    "    slider_maxs   = [+1,+1,1.2,+180,+180,+180,255],\n",
    "    slider_vals   = [0,0,0,0,0,0,0],\n",
    "    resolutions   = [0.02,0.02,0.02,3.6,3.6,3.6,0.04], # range/50\n",
    "    verbose       = False,\n",
    ")\n",
    "\n",
    "joint_names = ['joint1','joint2','joint3','joint4','joint5','joint6','joint7',] # Except fingers\n",
    "\n",
    "# Don't Know Why.....\n",
    "# q0 = np.array([0, -1, 0, 1, 6, 1.7, 0])\n",
    "\n",
    "# q0 = np.zeros(len(joint_names), dtype=float)\n",
    "q0 = q_traj[60]\n",
    "\n",
    "env.init_viewer(\n",
    "    title       = 'Tabletop',\n",
    "    transparent = False,\n",
    "    azimuth     = 133,\n",
    "    distance    = 3.5,\n",
    "    elevation   = -42.4,\n",
    "    lookat      = (-0.06,0.07,0.31),\n",
    ")\n",
    "\n",
    "env.reset() # reset\n",
    "env.forward(q=q0,joint_names=joint_names) # initial position\n",
    "\n",
    "p0 = env.get_p_body(body_name='tcp_link')\n",
    "R0 = env.get_R_body(body_name='tcp_link')\n",
    "\n",
    "# Loop\n",
    "q_ik_init = q0.copy()\n",
    "while env.is_viewer_alive():\n",
    "    \n",
    "    # Update\n",
    "    sliders.update() # update slider\n",
    "    xyzrpyg = sliders.get_slider_values()\n",
    "    qpos,ik_err_stack,ik_info = solve_ik(\n",
    "        env                = env,\n",
    "        joint_names_for_ik = joint_names,\n",
    "        body_name_trgt     = 'tcp_link',\n",
    "        q_init             = q_ik_init,\n",
    "        p_trgt             = xyzrpyg[:3]+p0,\n",
    "        R_trgt             = rpy_deg2r(xyzrpyg[3:6])@R0,\n",
    "        max_ik_tick        = 500,\n",
    "        ik_stepsize        = 1.0,\n",
    "        ik_eps             = 1e-2,\n",
    "        ik_th              = np.radians(5.0),\n",
    "        render             = False,\n",
    "        verbose_warning    = False,\n",
    "    )\n",
    "    ik_err = np.abs(ik_err_stack).max() # IK error\n",
    "    if ik_err < 1e-2: q_ik_init = qpos.copy()\n",
    "    else: q_ik_init = q0.copy()\n",
    "    \n",
    "    env.step( # dynamic update\n",
    "        ctrl        = np.append(qpos,xyzrpyg[6]), #np.append(np.append(qpos,xyzrpyg[6]),xyzrpyg[6]),s\n",
    "        ctrl_idxs   = [0,1,2,3,4,5,6,7])\n",
    "        #joint_names = joint_names)\n",
    "    \n",
    "    # Render \n",
    "    if env.loop_every(tick_every=10):\n",
    "        env.plot_T(\n",
    "            T=env.get_T_body(body_name='link_base'),\n",
    "            axis_len=0.5,print_xyz=False)\n",
    "        env.plot_text(\n",
    "            p=env.get_p_body(body_name='link_base')+np.array([0,0,0.5]),\n",
    "            label = 'time:[%.2f]sec ik_err:[%.3f]'%(env.get_sim_time(),ik_err))\n",
    "        env.plot_body_T(body_name='tcp_link',axis_len=0.1,axis_width=0.005)\n",
    "        env.plot_contact_info(\n",
    "            r_arrow=0.005,h_arrow=0.1,rgba_contact=(1,0,0,0.5),plot_sphere=False)\n",
    "        plot_ik_info(env=env,ik_info=ik_info)\n",
    "        \n",
    "        env.render()\n",
    "\n",
    "# Close\n",
    "env.close_viewer()\n",
    "sliders.close()\n",
    "print (\"Done.\")"
   ]
  },
  {
   "cell_type": "code",
   "execution_count": 62,
   "metadata": {},
   "outputs": [
    {
     "name": "stdout",
     "output_type": "stream",
     "text": [
      "Done.\n"
     ]
    }
   ],
   "source": [
    "sliders = MultiSliderClass( # Slider for joint control\n",
    "    n_slider      = 8,\n",
    "    title         = 'Sliders for [%s] Control'%(env.name),\n",
    "    window_width  = 450,\n",
    "    window_height = 300,\n",
    "    x_offset      = 0,\n",
    "    y_offset      = 100,\n",
    "    slider_width  = 300,\n",
    "    label_texts   = ['Joint 1', 'Joint 2', 'Joint 3', 'Joint 4', 'Joint 5', 'Joint 6', 'Joint 7', 'Gripper'],\n",
    "    slider_mins   = np.degrees(env.joint_ranges[:-6,0]).tolist() + [0], # Convert joint ranges from radians to degrees\n",
    "    slider_maxs   = np.degrees(env.joint_ranges[:-6,1]).tolist() + [255],\n",
    "    slider_vals   = [0, 0, 0, 0, 0, 0, 0, 0],\n",
    "    resolutions   = [(max-min)/50 for min,max in zip(np.degrees(env.joint_ranges[:-6,0]).tolist() + [0], \n",
    "                                                    np.degrees(env.joint_ranges[:-6,1]).tolist() + [255])],\n",
    "    verbose       = False,\n",
    ")\n",
    "\n",
    "joint_names = ['joint1','joint2','joint3','joint4','joint5','joint6','joint7'] # Except fingers\n",
    "\n",
    "q0 = np.zeros(len(joint_names), dtype=float)\n",
    "\n",
    "env.init_viewer(\n",
    "    title       = 'Tabletop',\n",
    "    transparent = False,\n",
    "    azimuth     = 133,\n",
    "    distance    = 3.5,\n",
    "    elevation   = -42.4,\n",
    "    lookat      = (-0.06,0.07,0.31),\n",
    ")\n",
    "env.reset() # reset\n",
    "env.forward(q=q0,joint_names=joint_names) # initial position\n",
    "\n",
    "# Loop\n",
    "while env.is_viewer_alive():\n",
    "    \n",
    "    # Update\n",
    "    sliders.update() # update slider\n",
    "    joint_values = sliders.get_slider_values()\n",
    "    \n",
    "    # Convert degrees to radians for joint angles\n",
    "    qpos = np.radians(joint_values[:7])\n",
    "    \n",
    "    env.step( # dynamic update\n",
    "        ctrl        = np.append(qpos, joint_values[7]), # Last value is gripper\n",
    "        ctrl_idxs   = [0,1,2,3,4,5,6,7])\n",
    "    \n",
    "    # Render \n",
    "    if env.loop_every(tick_every=10):\n",
    "        env.plot_T(\n",
    "            T=env.get_T_body(body_name='link_base'),\n",
    "            axis_len=0.5,print_xyz=False)\n",
    "        env.plot_text(\n",
    "            p=env.get_p_body(body_name='link_base')+np.array([0,0,0.5]),\n",
    "            label = 'time:[%.2f]sec'%(env.get_sim_time()))\n",
    "        env.plot_body_T(body_name='tcp_link',axis_len=0.1,axis_width=0.005)\n",
    "        env.plot_contact_info(\n",
    "            r_arrow=0.005,h_arrow=0.1,rgba_contact=(1,0,0,0.5),plot_sphere=False)\n",
    "        \n",
    "        env.render()\n",
    "\n",
    "# Close\n",
    "env.close_viewer()\n",
    "sliders.close()\n",
    "print (\"Done.\")"
   ]
  },
  {
   "cell_type": "markdown",
   "metadata": {},
   "source": [
    "# Trajectory\n"
   ]
  },
  {
   "cell_type": "markdown",
   "metadata": {},
   "source": [
    "### 1) genration\n"
   ]
  },
  {
   "cell_type": "code",
   "execution_count": 31,
   "metadata": {},
   "outputs": [],
   "source": [
    "joint_names = ['joint1', 'joint2', 'joint3', 'joint4', 'joint5', 'joint6', 'joint7']\n",
    "q0 = np.array(joint_states[0])\n",
    "# q0 = np.zeros_like(joint_names, dtype=float)\n",
    "\n",
    "q_traj = []\n",
    "\n",
    "q_ik_init = q0.copy()\n",
    "for ik_target in eef_states:\n",
    "\n",
    "    qpos,ik_err_stack,ik_info = solve_ik(\n",
    "        env                = env,\n",
    "        joint_names_for_ik = joint_names,\n",
    "        body_name_trgt     = 'tcp_link',\n",
    "        q_init             = q_ik_init,\n",
    "        p_trgt             = ik_target[:3],\n",
    "        R_trgt             = quat2r(np.concatenate([ik_target[4:], ik_target[3:4]])),\n",
    "        max_ik_tick        = 500,\n",
    "        ik_stepsize        = 1.0,\n",
    "        ik_eps             = 1e-2,\n",
    "        ik_th              = np.radians(5.0),\n",
    "        render             = False,\n",
    "        verbose_warning    = False,\n",
    "    )\n",
    "\n",
    "    ik_err = np.abs(ik_err_stack).max() # IK error\n",
    "    if ik_err < 1e-2: q_ik_init = qpos.copy()\n",
    "    else: q_ik_init = q0.copy()\n",
    "    \n",
    "    # print(ik_err, ik_target[:3], rot_target)\n",
    "    q_traj.append(qpos)"
   ]
  },
  {
   "cell_type": "markdown",
   "metadata": {},
   "source": [
    "### 2) Comparing\n"
   ]
  },
  {
   "cell_type": "code",
   "execution_count": 24,
   "metadata": {},
   "outputs": [
    {
     "data": {
      "image/png": "[encoded data removed]",
      "text/plain": [
       "<Figure size 640x480 with 1 Axes>"
      ]
     },
     "metadata": {
      "image/png": {
       "height": 268,
       "width": 515
      }
     },
     "output_type": "display_data"
    },
    {
     "name": "stdout",
     "output_type": "stream",
     "text": [
      "Done.\n"
     ]
    }
   ],
   "source": [
    "# G -> B -> R\n",
    "\n",
    "idx = 400\n",
    "assert idx < len(frames)\n",
    "\n",
    "sliders = MultiSliderClass( # Slider for EE control\n",
    "    n_slider      = 7,\n",
    "    title         = 'Sliders for [%s] Control'%(env.name),\n",
    "    window_width  = 450,\n",
    "    window_height = 300,\n",
    "    x_offset      = 0,\n",
    "    y_offset      = 100,\n",
    "    slider_width  = 300,\n",
    "    label_texts   = ['X','Y','Z','Roll-deg','Pitch-deg','Yaw-deg','Gripper'],\n",
    "    slider_mins   = [-1,-1,0,-180,-180,-180,0],\n",
    "    slider_maxs   = [+1,+1,1.2,+180,+180,+180,2],\n",
    "    slider_vals   = [0,0,0,0,0,0,0],\n",
    "    resolutions   = [0.02,0.02,0.02,3.6,3.6,3.6,0.04], # range/50\n",
    "    verbose       = False,\n",
    ")\n",
    "\n",
    "joint_names = ['joint1','joint2','joint3','joint4','joint5','joint6','joint7',] # Except fingers\n",
    "\n",
    "env.reset(step=True)\n",
    "\n",
    "q0 = q_traj[idx]\n",
    "env.forward(q=q0,joint_names=joint_names) # initial position\n",
    "\n",
    "p0 = env.get_p_body(body_name='tcp_link')\n",
    "R0 = env.get_R_body(body_name='tcp_link')\n",
    "\n",
    "env.init_viewer(\n",
    "    title       = 'Tabletop',\n",
    "    transparent = False,\n",
    "    azimuth     = 133,\n",
    "    distance    = 3.5,\n",
    "    elevation   = -42.4,\n",
    "    lookat      = (-0.06,0.07,0.31),\n",
    ")\n",
    "\n",
    "arr2image(frames[idx])\n",
    "\n",
    "# Loop\n",
    "q_ik_init = q0.copy()\n",
    "while env.is_viewer_alive():\n",
    "    \n",
    "    # Update\n",
    "    sliders.update() # update slider\n",
    "    xyzrpyg = sliders.get_slider_values()\n",
    "    qpos,ik_err_stack,ik_info = solve_ik(\n",
    "        env                = env,\n",
    "        joint_names_for_ik = joint_names,\n",
    "        body_name_trgt     = 'tcp_link',\n",
    "        q_init             = q_ik_init,\n",
    "        p_trgt             = xyzrpyg[:3]+p0,\n",
    "        R_trgt             = rpy_deg2r(xyzrpyg[3:6])@R0,\n",
    "        max_ik_tick        = 500,\n",
    "        ik_stepsize        = 1.0,\n",
    "        ik_eps             = 1e-2,\n",
    "        ik_th              = np.radians(5.0),\n",
    "        render             = False,\n",
    "        verbose_warning    = False,\n",
    "    )\n",
    "    \n",
    "    ik_err = np.abs(ik_err_stack).max() # IK error\n",
    "    if ik_err < 1e-2: q_ik_init = qpos.copy()\n",
    "    else: q_ik_init = q0.copy()\n",
    "    \n",
    "    env.step( # dynamic update\n",
    "        ctrl        = qpos,\n",
    "        joint_names = joint_names)\n",
    "    \n",
    "    # Render \n",
    "    if env.loop_every(tick_every=10):\n",
    "        env.plot_T(\n",
    "            T=env.get_T_body(body_name='link0'),\n",
    "            axis_len=0.5,print_xyz=False)\n",
    "        env.plot_text(\n",
    "            p=env.get_p_body(body_name='link0')+np.array([0,0,0.5]),\n",
    "            label = 'time:[%.2f]sec ik_err:[%.3f]'%(env.get_sim_time(),ik_err))\n",
    "        env.plot_body_T(body_name='tcp_link',axis_len=0.1,axis_width=0.005)\n",
    "        env.plot_contact_info(\n",
    "            r_arrow=0.005,h_arrow=0.1,rgba_contact=(1,0,0,0.5),plot_sphere=False)\n",
    "        plot_ik_info(env=env,ik_info=ik_info)\n",
    "        \n",
    "        env.render()\n",
    "\n",
    "# Close\n",
    "env.close_viewer()\n",
    "sliders.close()\n",
    "print(\"Done.\")  "
   ]
  },
  {
   "cell_type": "markdown",
   "metadata": {},
   "source": [
    "# Trajectory Reappearance\n"
   ]
  },
  {
   "cell_type": "code",
   "execution_count": 33,
   "metadata": {},
   "outputs": [
    {
     "name": "stdout",
     "output_type": "stream",
     "text": [
      "Done.\n"
     ]
    },
    {
     "ename": "",
     "evalue": "",
     "output_type": "error",
     "traceback": [
      "\u001b[1;31m현재 셀 또는 이전 셀에서 코드를 실행하는 동안 Kernel이 충돌했습니다. \n",
      "\u001b[1;31m셀의 코드를 검토하여 가능한 오류 원인을 식별하세요. \n",
      "\u001b[1;31m자세한 내용을 보려면 <a href='https://aka.ms/vscodeJupyterKernelCrash'>여기</a>를 클릭하세요. \n",
      "\u001b[1;31m자세한 내용은 Jupyter <a href='command:jupyter.viewOutput'>로그</a>를 참조하세요."
     ]
    }
   ],
   "source": [
    "joint_names = ['joint1', 'joint2', 'joint3', 'joint4', 'joint5', 'joint6', 'joint7']\n",
    "q0 = np.array(joint_states[0])\n",
    "\n",
    "env.init_viewer()\n",
    "\n",
    "env.reset() # reset\n",
    "env.forward(q=q0,joint_names=joint_names) # initial position\n",
    "    \n",
    "# Loop\n",
    "q_ik_init = q0.copy()\n",
    "qpos = q_traj[0]\n",
    "idx = 0\n",
    "\n",
    "# append two gripper states to qpos\n",
    "# gripper = gripper_states[0]\n",
    "# qpos = np.append(qpos, [gripper, gripper])\n",
    "\n",
    "while env.is_viewer_alive():\n",
    "    env.forward(q=qpos,joint_names=joint_names)\n",
    "\n",
    "    # Render \n",
    "    if env.loop_every(HZ=1):\n",
    "        if idx < len(q_traj)-1:\n",
    "            idx += 1\n",
    "        else: idx = 0\n",
    "\n",
    "        qpos = q_traj[idx]\n",
    "        # gripper = gripper_states[idx]\n",
    "        # qpos = np.append(qpos, [gripper, gripper])\n",
    "\n",
    "        env.plot_T(\n",
    "            T=env.get_T_body(body_name='link0'),\n",
    "            axis_len=0.5,print_xyz=False)\n",
    "        env.plot_text(\n",
    "            p=env.get_p_body(body_name='link0')+np.array([0,0,0.5]),\n",
    "            label = 'tick:[%d]time:[%.2f]'%(idx, env.get_sim_time()))\n",
    "        env.plot_body_T(body_name='tcp_link',axis_len=0.1,axis_width=0.005)\n",
    "        \n",
    "        env.render()\n",
    "\n",
    "# Close\n",
    "env.close_viewer()\n",
    "print (\"Done.\")"
   ]
  },
  {
   "cell_type": "code",
   "execution_count": 29,
   "metadata": {},
   "outputs": [
    {
     "name": "stdout",
     "output_type": "stream",
     "text": [
      "[ 0.398775   -0.00789503  0.37744911]\n",
      "[ 0.398775   -0.00789503  0.37744911]\n",
      "Done.\n"
     ]
    }
   ],
   "source": [
    "joint_names = ['joint1', 'joint2', 'joint3', 'joint4', 'joint5', 'joint6', 'joint7']\n",
    "q0 = np.zeros(len(joint_names), dtype=float)\n",
    "\n",
    "env.init_viewer()\n",
    "\n",
    "env.reset() # reset\n",
    "env.forward(q=q0,joint_names=joint_names) # initial position\n",
    "    \n",
    "# Loop\n",
    "q_ik_init = q0.copy()\n",
    "qpos = joint_states[0]\n",
    "idx = 0\n",
    "\n",
    "real_eef = [np.zeros(7) for _ in range(len(joint_states))]\n",
    "\n",
    "while env.is_viewer_alive():\n",
    "    env.forward(q=qpos,joint_names=joint_names)\n",
    "    real_eef[idx] = env.get_p_body(body_name='tcp_link')\n",
    "    # Render \n",
    "    if env.loop_every(HZ=1):\n",
    "        if idx == 10:\n",
    "            print(env.get_p_body(body_name='tcp_link'))\n",
    "\n",
    "        if idx < len(joint_states)-1:\n",
    "            idx += 1\n",
    "        else: idx = 0\n",
    "\n",
    "        qpos = joint_states[idx]  # Use first 7 joints from joint_states\n",
    "\n",
    "        env.plot_T(\n",
    "            T=env.get_T_body(body_name='link0'),\n",
    "            axis_len=0.5,print_xyz=False)\n",
    "        env.plot_text(\n",
    "            p=env.get_p_body(body_name='link0')+np.array([0,0,0.5]),\n",
    "            label = 'tick:[%d]time:[%.2f]'%(idx, env.get_sim_time()))\n",
    "        env.plot_body_T(body_name='tcp_link',axis_len=0.1,axis_width=0.005)\n",
    "        \n",
    "        env.render()\n",
    "\n",
    "# Close\n",
    "env.close_viewer()\n",
    "print (\"Done.\")\n",
    "\n",
    "# [ 0.46062913 -0.0419206   0.58133918] (calculated by joint_states) -> [0.46408984 -0.04164245  0.38942292] (EEF)\n",
    "# [ 0.46334388 -0.04195479  0.57160527] (calculated by joint_states) -> [0.4666901  -0.04140665  0.37968513] (EEF)"
   ]
  },
  {
   "cell_type": "markdown",
   "metadata": {},
   "source": [
    "# Reverse Engineering\n"
   ]
  },
  {
   "cell_type": "code",
   "execution_count": 25,
   "metadata": {},
   "outputs": [
    {
     "name": "stdout",
     "output_type": "stream",
     "text": [
      "[ 0.00391093 -0.92425175  0.3817606   0.00149838]\n"
     ]
    },
    {
     "data": {
      "text/plain": [
       "'\\n[-5.27306031e-17  9.32701387e-17  1.57079633e+00]\\n[ 1.48438446e-03  1.39833212e-01 -1.50792732e+00]\\n[ 0.72716463  0.04836099  0.05041956 -0.68289874]\\n[ 0.70710678  0.          0.         -0.70710678]\\n\\n\\n[9.99735615e-01 2.21498574e-02 9.10323765e-04 6.10366593e-03]\\n'"
      ]
     },
     "execution_count": 25,
     "metadata": {},
     "output_type": "execute_result"
    }
   ],
   "source": [
    "# current link gripper -> tcp_link rpy 0,0,0\n",
    "# target link gripper -> target rpy\n",
    "\n",
    "target = eef_states[idx][3:]\n",
    "target = quat2r(target)\n",
    "\n",
    "base = env.get_R_body(body_name='link7')\n",
    "current = env.get_R_body(body_name='tcp_link')\n",
    "\n",
    "R = current.T@base\n",
    "rpy = r2rpy(R)\n",
    "# print(rpy)\n",
    "\n",
    "R = base.T@target\n",
    "rpy = r2rpy(R)\n",
    "# print(rpy)\n",
    "print(rpy2quat(rpy))\n",
    "\n",
    "\n",
    "'''\n",
    "[-5.27306031e-17  9.32701387e-17  1.57079633e+00]\n",
    "[ 1.48438446e-03  1.39833212e-01 -1.50792732e+00]\n",
    "[ 0.72716463  0.04836099  0.05041956 -0.68289874]\n",
    "[ 0.70710678  0.          0.         -0.70710678]\n",
    "\n",
    "\n",
    "[9.99735615e-01 2.21498574e-02 9.10323765e-04 6.10366593e-03]\n",
    "'''"
   ]
  },
  {
   "cell_type": "code",
   "execution_count": null,
   "metadata": {},
   "outputs": [],
   "source": []
  }
 ],
 "metadata": {
  "kernelspec": {
   "display_name": "robotics",
   "language": "python",
   "name": "python3"
  },
  "language_info": {
   "codemirror_mode": {
    "name": "ipython",
    "version": 3
   },
   "file_extension": ".py",
   "mimetype": "text/x-python",
   "name": "python",
   "nbconvert_exporter": "python",
   "pygments_lexer": "ipython3",
   "version": "3.9.21"
  }
 },
 "nbformat": 4,
 "nbformat_minor": 2
}

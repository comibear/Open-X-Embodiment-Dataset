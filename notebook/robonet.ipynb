{
 "cells": [
  {
   "cell_type": "markdown",
   "metadata": {},
   "source": [
    "# DATASET"
   ]
  },
  {
   "cell_type": "code",
   "execution_count": 148,
   "metadata": {},
   "outputs": [
    {
     "name": "stdout",
     "output_type": "stream",
     "text": [
      "MuJoCo:[3.1.6]\n"
     ]
    }
   ],
   "source": [
    "import numpy as np\n",
    "import tensorflow_datasets as tfds\n",
    "import tqdm\n",
    "from PIL import Image\n",
    "from IPython import display\n",
    "\n",
    "import mujoco,sys\n",
    "import numpy as np\n",
    "import matplotlib.pyplot as plt\n",
    "\n",
    "sys.path.append('../package/')\n",
    "sys.path.append('../package/helper/')\n",
    "sys.path.append('../package/mujoco_usage/')\n",
    "\n",
    "from mujoco_parser import *\n",
    "from transformation import *\n",
    "from slider import *\n",
    "from utility import *\n",
    "from utils import *\n",
    "\n",
    "%config InlineBackend.figure_format = 'retina'\n",
    "%matplotlib inline\n",
    "print (\"MuJoCo:[%s]\"%(mujoco.__version__))"
   ]
  },
  {
   "cell_type": "code",
   "execution_count": 149,
   "metadata": {},
   "outputs": [
    {
     "name": "stdout",
     "output_type": "stream",
     "text": [
      "FeaturesDict({\n",
      "    'episode_metadata': FeaturesDict({\n",
      "        'file_path': Text(shape=(), dtype=string),\n",
      "        'robot': Text(shape=(), dtype=string),\n",
      "    }),\n",
      "    'steps': Dataset({\n",
      "        'action': Tensor(shape=(5,), dtype=float32),\n",
      "        'discount': Scalar(shape=(), dtype=float32),\n",
      "        'is_first': Scalar(shape=(), dtype=bool),\n",
      "        'is_last': Scalar(shape=(), dtype=bool),\n",
      "        'is_terminal': Scalar(shape=(), dtype=bool),\n",
      "        'language_embedding': Tensor(shape=(512,), dtype=float32),\n",
      "        'language_instruction': Text(shape=(), dtype=string),\n",
      "        'observation': FeaturesDict({\n",
      "            'image': Image(shape=(240, 320, 3), dtype=uint8),\n",
      "            'image1': Image(shape=(240, 320, 3), dtype=uint8),\n",
      "            'image2': Image(shape=(240, 320, 3), dtype=uint8),\n",
      "            'state': Tensor(shape=(5,), dtype=float32),\n",
      "        }),\n",
      "        'reward': Scalar(shape=(), dtype=float32),\n",
      "    }),\n",
      "})\n"
     ]
    }
   ],
   "source": [
    "dataset = DATASETS[32] # robo_net\n",
    "display_key = 'image'\n",
    "\n",
    "ds, iterator = get_dataset(dataset, display_key=display_key, )"
   ]
  },
  {
   "cell_type": "code",
   "execution_count": 150,
   "metadata": {},
   "outputs": [
    {
     "name": "stderr",
     "output_type": "stream",
     "text": [
      "2025-02-06 16:41:04.321815: I tensorflow/core/kernels/data/shuffle_dataset_op.cc:450] ShuffleDatasetV3:524: Filling up shuffle buffer (this may take a while): 20 of 30\n",
      "2025-02-06 16:41:06.974730: I tensorflow/core/kernels/data/shuffle_dataset_op.cc:480] Shuffle buffer filled.\n"
     ]
    },
    {
     "name": "stdout",
     "output_type": "stream",
     "text": [
      "MoviePy - Building video output.mp4.\n",
      "MoviePy - Writing video output.mp4\n",
      "\n"
     ]
    },
    {
     "name": "stderr",
     "output_type": "stream",
     "text": [
      "                                                                     "
     ]
    },
    {
     "name": "stdout",
     "output_type": "stream",
     "text": [
      "MoviePy - Done !\n",
      "MoviePy - video ready output.mp4\n"
     ]
    },
    {
     "name": "stderr",
     "output_type": "stream",
     "text": [
      "\r"
     ]
    }
   ],
   "source": [
    "episode = next(iterator)\n",
    "images = get_image_from_episode(episode, display_key=display_key)\n",
    "\n",
    "import os\n",
    "from PIL import Image\n",
    "import numpy as np\n",
    "os.environ[\"IMAGEIO_FFMPEG_EXE\"] = \"/opt/homebrew/bin/ffmpeg\"\n",
    "\n",
    "from moviepy import *\n",
    "\n",
    "frames = [np.array(img.convert('RGB')) for img in images]\n",
    "clip = ImageSequenceClip(frames, fps=3)\n",
    "clip.write_videofile(\"output.mp4\", codec='libx264', audio=False)"
   ]
  },
  {
   "cell_type": "code",
   "execution_count": 151,
   "metadata": {},
   "outputs": [],
   "source": [
    "from PIL import Image\n",
    "import numpy as np\n",
    "import matplotlib.pyplot as plt\n",
    "\n",
    "def arr2image(array):\n",
    "    \"\"\"\n",
    "    Displays a NumPy array (h, w, c) as an image.\n",
    "    \"\"\"\n",
    "    # Check the array shape and type\n",
    "    if len(array.shape) != 3 or array.shape[2] not in [3, 4]:\n",
    "        raise ValueError(\"Input array must have shape (h, w, c) with c=3 (RGB) or c=4 (RGBA).\")\n",
    "    \n",
    "    # Display the image using matplotlib\n",
    "    plt.imshow(array)\n",
    "    plt.axis('off')  # Turn off axis\n",
    "    plt.show()"
   ]
  },
  {
   "cell_type": "markdown",
   "metadata": {},
   "source": [
    "# EPISODE"
   ]
  },
  {
   "cell_type": "markdown",
   "metadata": {},
   "source": [
    "1) sawyer\n",
    "2) baxter\n",
    "3) kuka iiwa\n",
    "4) franka panda\n",
    "5) widowx\n",
    "6) fetch\n",
    "7) google r3"
   ]
  },
  {
   "cell_type": "code",
   "execution_count": 152,
   "metadata": {},
   "outputs": [],
   "source": [
    "iter_steps = iter(episode['steps'])\n",
    "states = [base['observation']['state'] for base in iter_steps]\n",
    "\n",
    "iter_steps = iter(episode['steps'])\n",
    "actions = [action['action'] for action in iter_steps]\n",
    "\n",
    "robot_name = episode['episode_metadata']['robot'].numpy().decode('utf-8')"
   ]
  },
  {
   "cell_type": "code",
   "execution_count": 153,
   "metadata": {},
   "outputs": [
    {
     "data": {
      "text/plain": [
       "'baxter'"
      ]
     },
     "execution_count": 153,
     "metadata": {},
     "output_type": "execute_result"
    }
   ],
   "source": [
    "robot_name"
   ]
  },
  {
   "cell_type": "markdown",
   "metadata": {},
   "source": [
    "# ENV"
   ]
  },
  {
   "cell_type": "code",
   "execution_count": 157,
   "metadata": {},
   "outputs": [],
   "source": [
    "r2d = {\n",
    "    'sawyer': '../mujoco_menagerie/rethink_robotics_sawyer/scene_robonet.xml',\n",
    "    'baxter': '../mujoco_menagerie/baxter/baxter_w_table.xml',\n",
    "    'kuka iiwa': '../mujoco_menagerie/kuka_iiwa/scene.xml',\n",
    "    'franka panda': '../mujoco_menagerie/franka_panda/scene.xml',\n",
    "    'widowx': '../mujoco_menagerie/trossen_wx250s/scene_robonet.xml',\n",
    "    'fetch': '../mujoco_menagerie/fetch/scene.xml',\n",
    "    'google r3': '../mujoco_menagerie/google_robot/scene.xml'\n",
    "}\n",
    "\n",
    "\n",
    "xml_path = r2d[robot_name]\n",
    "env = MuJoCoParserClass(name='Tabletop',rel_xml_path=xml_path,verbose=False)"
   ]
  },
  {
   "cell_type": "markdown",
   "metadata": {},
   "source": [
    "# CONTROL"
   ]
  },
  {
   "cell_type": "code",
   "execution_count": 65,
   "metadata": {},
   "outputs": [
    {
     "name": "stdout",
     "output_type": "stream",
     "text": [
      "Done.\n"
     ]
    }
   ],
   "source": [
    "sliders = MultiSliderClass( # Slider for EE control\n",
    "    n_slider      = 7,\n",
    "    title         = 'Sliders for [%s] Control'%(env.name),\n",
    "    window_width  = 450,\n",
    "    window_height = 300,\n",
    "    x_offset      = 0,\n",
    "    y_offset      = 100,\n",
    "    slider_width  = 300,\n",
    "    label_texts   = ['X','Y','Z','Roll-deg','Pitch-deg','Yaw-deg','Gripper'],\n",
    "    slider_mins   = [-1,-1,0,-180,-180,-180,0],\n",
    "    slider_maxs   = [+1,+1,1.2,+180,+180,+180,2],\n",
    "    slider_vals   = [0,0,0,0,0,0,0],\n",
    "    resolutions   = [0.02,0.02,0.02,3.6,3.6,3.6,0.04], # range/50\n",
    "    verbose       = False,\n",
    ")\n",
    "\n",
    "joint_names = env.joint_names[:-2] # Except fingers\n",
    "\n",
    "# Don't Know Why.....\n",
    "q0 = np.array( [-0.2639457174606611,\n",
    "                0.0831913360274175,\n",
    "                0.5017611504652179,\n",
    "                1.156859026208673,\n",
    "                0.028583671314766423,\n",
    "                1.592598203487462,\n",
    "                -1.080652960128774])\n",
    "\n",
    "\n",
    "# q0 = np.zeros(len(joint_names), dtype=float)\n",
    "p0 = env.get_p_body(body_name='base_link')+np.array([0.5,0.0,0.45])\n",
    "R0 = rpy_deg2r([0,0,0])\n",
    "\n",
    "env.init_viewer(\n",
    "    title       = 'Tabletop',\n",
    "    transparent = False,\n",
    "    azimuth     = 133,\n",
    "    distance    = 3.5,\n",
    "    elevation   = -42.4,\n",
    "    lookat      = (-0.06,0.07,0.31),\n",
    ")\n",
    "env.reset() # reset\n",
    "env.forward(q=q0,joint_names=joint_names) # initial position\n",
    "\n",
    "# Loop\n",
    "q_ik_init = q0.copy()\n",
    "while env.is_viewer_alive():\n",
    "    \n",
    "    # Update\n",
    "    sliders.update() # update slider\n",
    "    xyzrpyg = sliders.get_slider_values()\n",
    "    qpos,ik_err_stack,ik_info = solve_ik(\n",
    "        env                = env,\n",
    "        joint_names_for_ik = joint_names,\n",
    "        body_name_trgt     = 'tcp_link',\n",
    "        q_init             = q_ik_init,\n",
    "        p_trgt             = xyzrpyg[:3]+p0,\n",
    "        R_trgt             = rpy_deg2r(xyzrpyg[3:6])@R0,\n",
    "        max_ik_tick        = 500,\n",
    "        ik_stepsize        = 1.0,\n",
    "        ik_eps             = 1e-2,\n",
    "        ik_th              = np.radians(5.0),\n",
    "        render             = False,\n",
    "        verbose_warning    = False,\n",
    "    )\n",
    "    ik_err = np.abs(ik_err_stack).max() # IK error\n",
    "    if ik_err < 1e-2: q_ik_init = qpos.copy()\n",
    "    else: q_ik_init = q0.copy()\n",
    "    \n",
    "    env.step( # dynamic update\n",
    "        ctrl        = np.append(np.append(qpos,xyzrpyg[6]),xyzrpyg[6]),\n",
    "        joint_names = joint_names+['joint_finger_right','joint_finger_left'])\n",
    "    \n",
    "    # Render \n",
    "    if env.loop_every(tick_every=10):\n",
    "        env.plot_T(\n",
    "            T=env.get_T_body(body_name='base_link'),\n",
    "            axis_len=0.5,print_xyz=False)\n",
    "        env.plot_text(\n",
    "            p=env.get_p_body(body_name='base_link')+np.array([0,0,0.5]),\n",
    "            label = 'time:[%.2f]sec ik_err:[%.3f]'%(env.get_sim_time(),ik_err))\n",
    "        env.plot_body_T(body_name='tcp_link',axis_len=0.1,axis_width=0.005)\n",
    "        env.plot_contact_info(\n",
    "            r_arrow=0.005,h_arrow=0.1,rgba_contact=(1,0,0,0.5),plot_sphere=False)\n",
    "        plot_ik_info(env=env,ik_info=ik_info)\n",
    "        \n",
    "        env.render()\n",
    "\n",
    "# Close\n",
    "env.close_viewer()\n",
    "sliders.close()\n",
    "print (\"Done.\")"
   ]
  },
  {
   "cell_type": "markdown",
   "metadata": {},
   "source": [
    "# Trajectory"
   ]
  },
  {
   "cell_type": "markdown",
   "metadata": {},
   "source": [
    "### 1) genration"
   ]
  },
  {
   "cell_type": "code",
   "execution_count": 158,
   "metadata": {},
   "outputs": [],
   "source": [
    "def trans_xyz(pos, scales=None, translations=None):\n",
    "    if scales is None:\n",
    "        scales = [0.4, 0.4, 0.4]\n",
    "    if translations is None:\n",
    "        translations = [0.5, 0, 0]\n",
    "\n",
    "    # Convert input list to numpy array if needed\n",
    "    pos = np.array(pos)\n",
    "    \n",
    "    # Transform each coordinate\n",
    "    transformed = [\n",
    "        pos[0] * scales[0] + translations[0],\n",
    "        pos[1] * scales[1] + translations[1], \n",
    "        pos[2] * scales[2] + translations[2]\n",
    "    ]\n",
    "    \n",
    "    return transformed"
   ]
  },
  {
   "cell_type": "code",
   "execution_count": 160,
   "metadata": {},
   "outputs": [
    {
     "data": {
      "text/plain": [
       "['head_pan',\n",
       " 'right_s0',\n",
       " 'right_s1',\n",
       " 'right_e0',\n",
       " 'right_e1',\n",
       " 'right_w0',\n",
       " 'right_w1',\n",
       " 'right_w2',\n",
       " 'r_gripper_l_finger_joint',\n",
       " 'r_gripper_r_finger_joint',\n",
       " 'left_s0',\n",
       " 'left_s1',\n",
       " 'left_e0',\n",
       " 'left_e1',\n",
       " 'left_w0',\n",
       " 'left_w1',\n",
       " 'left_w2',\n",
       " 'l_gripper_l_finger_joint',\n",
       " 'l_gripper_r_finger_joint',\n",
       " 'box']"
      ]
     },
     "execution_count": 160,
     "metadata": {},
     "output_type": "execute_result"
    }
   ],
   "source": [
    "env.joint_names"
   ]
  },
  {
   "cell_type": "code",
   "execution_count": 159,
   "metadata": {},
   "outputs": [
    {
     "ename": "ValueError",
     "evalue": "setting an array element with a sequence. The requested array has an inhomogeneous shape after 1 dimensions. The detected shape was (20,) + inhomogeneous part.",
     "output_type": "error",
     "traceback": [
      "\u001b[0;31m---------------------------------------------------------------------------\u001b[0m",
      "\u001b[0;31mValueError\u001b[0m                                Traceback (most recent call last)",
      "Cell \u001b[0;32mIn[159], line 8\u001b[0m\n\u001b[1;32m      6\u001b[0m q_ik_init \u001b[38;5;241m=\u001b[39m q0\u001b[38;5;241m.\u001b[39mcopy()\n\u001b[1;32m      7\u001b[0m \u001b[38;5;28;01mfor\u001b[39;00m ik_target \u001b[38;5;129;01min\u001b[39;00m states:\n\u001b[0;32m----> 8\u001b[0m     qpos,ik_err_stack,ik_info \u001b[38;5;241m=\u001b[39m \u001b[43msolve_ik\u001b[49m\u001b[43m(\u001b[49m\n\u001b[1;32m      9\u001b[0m \u001b[43m        \u001b[49m\u001b[43menv\u001b[49m\u001b[43m                \u001b[49m\u001b[38;5;241;43m=\u001b[39;49m\u001b[43m \u001b[49m\u001b[43menv\u001b[49m\u001b[43m,\u001b[49m\n\u001b[1;32m     10\u001b[0m \u001b[43m        \u001b[49m\u001b[43mjoint_names_for_ik\u001b[49m\u001b[43m \u001b[49m\u001b[38;5;241;43m=\u001b[39;49m\u001b[43m \u001b[49m\u001b[43menv\u001b[49m\u001b[38;5;241;43m.\u001b[39;49m\u001b[43mjoint_names\u001b[49m\u001b[43m,\u001b[49m\n\u001b[1;32m     11\u001b[0m \u001b[43m        \u001b[49m\u001b[43mbody_name_trgt\u001b[49m\u001b[43m     \u001b[49m\u001b[38;5;241;43m=\u001b[39;49m\u001b[43m \u001b[49m\u001b[38;5;124;43m'\u001b[39;49m\u001b[38;5;124;43mtcp_link\u001b[39;49m\u001b[38;5;124;43m'\u001b[39;49m\u001b[43m,\u001b[49m\n\u001b[1;32m     12\u001b[0m \u001b[43m        \u001b[49m\u001b[43mq_init\u001b[49m\u001b[43m             \u001b[49m\u001b[38;5;241;43m=\u001b[39;49m\u001b[43m \u001b[49m\u001b[43mq_ik_init\u001b[49m\u001b[43m,\u001b[49m\n\u001b[1;32m     13\u001b[0m \u001b[43m        \u001b[49m\u001b[43mp_trgt\u001b[49m\u001b[43m             \u001b[49m\u001b[38;5;241;43m=\u001b[39;49m\u001b[43m \u001b[49m\u001b[43mtrans_xyz\u001b[49m\u001b[43m(\u001b[49m\u001b[43mik_target\u001b[49m\u001b[43m[\u001b[49m\u001b[43m:\u001b[49m\u001b[38;5;241;43m3\u001b[39;49m\u001b[43m]\u001b[49m\u001b[38;5;241;43m.\u001b[39;49m\u001b[43mnumpy\u001b[49m\u001b[43m(\u001b[49m\u001b[43m)\u001b[49m\u001b[43m)\u001b[49m\u001b[43m,\u001b[49m\n\u001b[1;32m     14\u001b[0m \u001b[43m        \u001b[49m\u001b[43mR_trgt\u001b[49m\u001b[43m             \u001b[49m\u001b[38;5;241;43m=\u001b[39;49m\u001b[43m \u001b[49m\u001b[43mrpy2r\u001b[49m\u001b[43m(\u001b[49m\u001b[43mnp\u001b[49m\u001b[38;5;241;43m.\u001b[39;49m\u001b[43marray\u001b[49m\u001b[43m(\u001b[49m\u001b[43m[\u001b[49m\u001b[38;5;241;43m0\u001b[39;49m\u001b[43m,\u001b[49m\u001b[38;5;241;43m0\u001b[39;49m\u001b[43m,\u001b[49m\u001b[43m \u001b[49m\u001b[38;5;241;43m-\u001b[39;49m\u001b[43mik_target\u001b[49m\u001b[43m[\u001b[49m\u001b[38;5;241;43m3\u001b[39;49m\u001b[43m]\u001b[49m\u001b[38;5;241;43m.\u001b[39;49m\u001b[43mnumpy\u001b[49m\u001b[43m(\u001b[49m\u001b[43m)\u001b[49m\u001b[43m]\u001b[49m\u001b[43m)\u001b[49m\u001b[43m)\u001b[49m\u001b[43m,\u001b[49m\n\u001b[1;32m     15\u001b[0m \u001b[43m        \u001b[49m\u001b[43mmax_ik_tick\u001b[49m\u001b[43m        \u001b[49m\u001b[38;5;241;43m=\u001b[39;49m\u001b[43m \u001b[49m\u001b[38;5;241;43m500\u001b[39;49m\u001b[43m,\u001b[49m\n\u001b[1;32m     16\u001b[0m \u001b[43m        \u001b[49m\u001b[43mik_stepsize\u001b[49m\u001b[43m        \u001b[49m\u001b[38;5;241;43m=\u001b[39;49m\u001b[43m \u001b[49m\u001b[38;5;241;43m1.0\u001b[39;49m\u001b[43m,\u001b[49m\n\u001b[1;32m     17\u001b[0m \u001b[43m        \u001b[49m\u001b[43mik_eps\u001b[49m\u001b[43m             \u001b[49m\u001b[38;5;241;43m=\u001b[39;49m\u001b[43m \u001b[49m\u001b[38;5;241;43m1e-2\u001b[39;49m\u001b[43m,\u001b[49m\n\u001b[1;32m     18\u001b[0m \u001b[43m        \u001b[49m\u001b[43mik_th\u001b[49m\u001b[43m              \u001b[49m\u001b[38;5;241;43m=\u001b[39;49m\u001b[43m \u001b[49m\u001b[43mnp\u001b[49m\u001b[38;5;241;43m.\u001b[39;49m\u001b[43mradians\u001b[49m\u001b[43m(\u001b[49m\u001b[38;5;241;43m5.0\u001b[39;49m\u001b[43m)\u001b[49m\u001b[43m,\u001b[49m\n\u001b[1;32m     19\u001b[0m \u001b[43m        \u001b[49m\u001b[43mrender\u001b[49m\u001b[43m             \u001b[49m\u001b[38;5;241;43m=\u001b[39;49m\u001b[43m \u001b[49m\u001b[38;5;28;43;01mFalse\u001b[39;49;00m\u001b[43m,\u001b[49m\n\u001b[1;32m     20\u001b[0m \u001b[43m        \u001b[49m\u001b[43mverbose_warning\u001b[49m\u001b[43m    \u001b[49m\u001b[38;5;241;43m=\u001b[39;49m\u001b[43m \u001b[49m\u001b[38;5;28;43;01mFalse\u001b[39;49;00m\u001b[43m,\u001b[49m\n\u001b[1;32m     21\u001b[0m \u001b[43m    \u001b[49m\u001b[43m)\u001b[49m\n\u001b[1;32m     23\u001b[0m     ik_err \u001b[38;5;241m=\u001b[39m np\u001b[38;5;241m.\u001b[39mabs(ik_err_stack)\u001b[38;5;241m.\u001b[39mmax() \u001b[38;5;66;03m# IK error\u001b[39;00m\n\u001b[1;32m     24\u001b[0m     \u001b[38;5;28;01mif\u001b[39;00m ik_err \u001b[38;5;241m<\u001b[39m \u001b[38;5;241m1e-2\u001b[39m: q_ik_init \u001b[38;5;241m=\u001b[39m qpos\u001b[38;5;241m.\u001b[39mcopy()\n",
      "File \u001b[0;32m~/Desktop/Robotics/RILAB/StateTransform/notebook/../package/mujoco_usage/mujoco_parser.py:2169\u001b[0m, in \u001b[0;36msolve_ik\u001b[0;34m(env, joint_names_for_ik, body_name_trgt, q_init, p_trgt, R_trgt, max_ik_tick, ik_err_th, restore_state, ik_stepsize, ik_eps, ik_th, verbose, verbose_warning, reset_env, render, render_every)\u001b[0m\n\u001b[1;32m   2161\u001b[0m add_ik_info(\n\u001b[1;32m   2162\u001b[0m     ik_info  \u001b[38;5;241m=\u001b[39m ik_info,\n\u001b[1;32m   2163\u001b[0m     body_name\u001b[38;5;241m=\u001b[39m body_name_trgt,\n\u001b[1;32m   2164\u001b[0m     p_trgt   \u001b[38;5;241m=\u001b[39m p_trgt,\n\u001b[1;32m   2165\u001b[0m     R_trgt   \u001b[38;5;241m=\u001b[39m R_trgt, \n\u001b[1;32m   2166\u001b[0m )\n\u001b[1;32m   2168\u001b[0m \u001b[38;5;66;03m# Loop\u001b[39;00m\n\u001b[0;32m-> 2169\u001b[0m q_curr \u001b[38;5;241m=\u001b[39m \u001b[43menv\u001b[49m\u001b[38;5;241;43m.\u001b[39;49m\u001b[43mget_qpos_joints\u001b[49m\u001b[43m(\u001b[49m\u001b[43mjoint_names\u001b[49m\u001b[38;5;241;43m=\u001b[39;49m\u001b[43mjoint_names_for_ik\u001b[49m\u001b[43m)\u001b[49m\n\u001b[1;32m   2170\u001b[0m \u001b[38;5;28;01mfor\u001b[39;00m ik_tick \u001b[38;5;129;01min\u001b[39;00m \u001b[38;5;28mrange\u001b[39m(max_ik_tick):\n\u001b[1;32m   2171\u001b[0m     dq,ik_err_stack \u001b[38;5;241m=\u001b[39m get_dq_from_ik_info(\n\u001b[1;32m   2172\u001b[0m         env            \u001b[38;5;241m=\u001b[39m env,\n\u001b[1;32m   2173\u001b[0m         ik_info        \u001b[38;5;241m=\u001b[39m ik_info,\n\u001b[0;32m   (...)\u001b[0m\n\u001b[1;32m   2177\u001b[0m         joint_idxs_jac \u001b[38;5;241m=\u001b[39m joint_idxs_jac,\n\u001b[1;32m   2178\u001b[0m     )\n",
      "File \u001b[0;32m~/Desktop/Robotics/RILAB/StateTransform/notebook/../package/mujoco_usage/mujoco_parser.py:1542\u001b[0m, in \u001b[0;36mMuJoCoParserClass.get_qpos_joints\u001b[0;34m(self, joint_names)\u001b[0m\n\u001b[1;32m   1538\u001b[0m \u001b[38;5;28;01mdef\u001b[39;00m \u001b[38;5;21mget_qpos_joints\u001b[39m(\u001b[38;5;28mself\u001b[39m,joint_names):\n\u001b[1;32m   1539\u001b[0m \u001b[38;5;250m    \u001b[39m\u001b[38;5;124;03m\"\"\"\u001b[39;00m\n\u001b[1;32m   1540\u001b[0m \u001b[38;5;124;03m        Get multiple joint positions from 'joint_names'\u001b[39;00m\n\u001b[1;32m   1541\u001b[0m \u001b[38;5;124;03m    \"\"\"\u001b[39;00m\n\u001b[0;32m-> 1542\u001b[0m     \u001b[38;5;28;01mreturn\u001b[39;00m \u001b[43mnp\u001b[49m\u001b[38;5;241;43m.\u001b[39;49m\u001b[43marray\u001b[49m\u001b[43m(\u001b[49m\u001b[43m[\u001b[49m\u001b[38;5;28;43mself\u001b[39;49m\u001b[38;5;241;43m.\u001b[39;49m\u001b[43mget_qpos_joint\u001b[49m\u001b[43m(\u001b[49m\u001b[43mjoint_name\u001b[49m\u001b[43m)\u001b[49m\u001b[43m \u001b[49m\u001b[38;5;28;43;01mfor\u001b[39;49;00m\u001b[43m \u001b[49m\u001b[43mjoint_name\u001b[49m\u001b[43m \u001b[49m\u001b[38;5;129;43;01min\u001b[39;49;00m\u001b[43m \u001b[49m\u001b[43mjoint_names\u001b[49m\u001b[43m]\u001b[49m\u001b[43m)\u001b[49m\u001b[38;5;241m.\u001b[39msqueeze()\n",
      "\u001b[0;31mValueError\u001b[0m: setting an array element with a sequence. The requested array has an inhomogeneous shape after 1 dimensions. The detected shape was (20,) + inhomogeneous part."
     ]
    }
   ],
   "source": [
    "joint_names = env.joint_names\n",
    "q0 = np.zeros(len(joint_names), dtype=float)\n",
    "\n",
    "q_traj = list()\n",
    "\n",
    "q_ik_init = q0.copy()\n",
    "for ik_target in states:\n",
    "    qpos,ik_err_stack,ik_info = solve_ik(\n",
    "        env                = env,\n",
    "        joint_names_for_ik = env.joint_names,\n",
    "        body_name_trgt     = 'tcp_link',\n",
    "        q_init             = q_ik_init,\n",
    "        p_trgt             = trans_xyz(ik_target[:3].numpy()),\n",
    "        R_trgt             = rpy2r(np.array([0,0, -ik_target[3].numpy()])),\n",
    "        max_ik_tick        = 500,\n",
    "        ik_stepsize        = 1.0,\n",
    "        ik_eps             = 1e-2,\n",
    "        ik_th              = np.radians(5.0),\n",
    "        render             = False,\n",
    "        verbose_warning    = False,\n",
    "    )\n",
    "\n",
    "    ik_err = np.abs(ik_err_stack).max() # IK error\n",
    "    if ik_err < 1e-2: q_ik_init = qpos.copy()\n",
    "    else: q_ik_init = q0.copy()\n",
    "    \n",
    "    q_traj.append(qpos)"
   ]
  },
  {
   "cell_type": "markdown",
   "metadata": {},
   "source": [
    "### 2) Comparing"
   ]
  },
  {
   "cell_type": "code",
   "execution_count": 86,
   "metadata": {},
   "outputs": [
    {
     "ename": "",
     "evalue": "",
     "output_type": "error",
     "traceback": [
      "\u001b[1;31m현재 셀 또는 이전 셀에서 코드를 실행하는 동안 Kernel이 충돌했습니다. \n",
      "\u001b[1;31m셀의 코드를 검토하여 가능한 오류 원인을 식별하세요. \n",
      "\u001b[1;31m자세한 내용을 보려면 <a href='https://aka.ms/vscodeJupyterKernelCrash'>여기</a>를 클릭하세요. \n",
      "\u001b[1;31m자세한 내용은 Jupyter <a href='command:jupyter.viewOutput'>로그</a>를 참조하세요."
     ]
    }
   ],
   "source": [
    "# G -> B -> R\n",
    "\n",
    "idx = 0\n",
    "assert idx < len(frames)\n",
    "\n",
    "sliders = MultiSliderClass( # Slider for EE control\n",
    "    n_slider      = 7,\n",
    "    title         = 'Sliders for [%s] Control'%(env.name),\n",
    "    window_width  = 450,\n",
    "    window_height = 300,\n",
    "    x_offset      = 0,\n",
    "    y_offset      = 100,\n",
    "    slider_width  = 300,\n",
    "    label_texts   = ['X','Y','Z','Roll-deg','Pitch-deg','Yaw-deg','Gripper'],\n",
    "    slider_mins   = [-1,-1,0,-180,-180,-180,0],\n",
    "    slider_maxs   = [+1,+1,1.2,+180,+180,+180,2],\n",
    "    slider_vals   = [0,0,0,0,0,0,0],\n",
    "    resolutions   = [0.02,0.02,0.02,3.6,3.6,3.6,0.04], # range/50\n",
    "    verbose       = False,\n",
    ")\n",
    "\n",
    "joint_names = env.joint_names\n",
    "\n",
    "env.reset(step=True)\n",
    "\n",
    "q0 = q_traj[idx]\n",
    "env.forward(q=q0,joint_names=joint_names) # initial position\n",
    "\n",
    "p0 = env.get_p_body(body_name='tcp_link')\n",
    "R0 = env.get_R_body(body_name='tcp_link')\n",
    "\n",
    "env.init_viewer()\n",
    "\n",
    "arr2image(frames[idx])\n",
    "\n",
    "# Loop\n",
    "q_ik_init = q0.copy()\n",
    "while env.is_viewer_alive():\n",
    "    \n",
    "    # Update\n",
    "    sliders.update() # update slider\n",
    "    xyzrpyg = sliders.get_slider_values()\n",
    "    qpos,ik_err_stack,ik_info = solve_ik(\n",
    "        env                = env,\n",
    "        joint_names_for_ik = joint_names,\n",
    "        body_name_trgt     = 'tcp_link',\n",
    "        q_init             = q_ik_init,\n",
    "        p_trgt             = xyzrpyg[:3]+p0,\n",
    "        R_trgt             = rpy_deg2r(xyzrpyg[3:6])@R0,\n",
    "        max_ik_tick        = 500,\n",
    "        ik_stepsize        = 1.0,\n",
    "        ik_eps             = 1e-2,\n",
    "        ik_th              = np.radians(5.0),\n",
    "        render             = False,\n",
    "        verbose_warning    = False,\n",
    "    )\n",
    "    \n",
    "    ik_err = np.abs(ik_err_stack).max() # IK error\n",
    "    if ik_err < 1e-2: q_ik_init = qpos.copy()\n",
    "    else: q_ik_init = q0.copy()\n",
    "    \n",
    "    env.step( # dynamic update\n",
    "        ctrl        = qpos,\n",
    "        joint_names = joint_names\n",
    "    )\n",
    "    \n",
    "    # Render \n",
    "    if env.loop_every(tick_every=10):\n",
    "        env.plot_T(\n",
    "            T=env.get_T_body(body_name='base'),\n",
    "            axis_len=0.5,print_xyz=False)\n",
    "        env.plot_text(\n",
    "            p=env.get_p_body(body_name='base')+np.array([0,0,0.5]),\n",
    "            label = 'time:[%.2f]sec ik_err:[%.3f]'%(env.get_sim_time(),ik_err))\n",
    "        env.plot_body_T(body_name='tcp_link',axis_len=0.1,axis_width=0.005)\n",
    "        env.plot_contact_info(\n",
    "            r_arrow=0.005,h_arrow=0.1,rgba_contact=(1,0,0,0.5),plot_sphere=False)\n",
    "        plot_ik_info(env=env,ik_info=ik_info)\n",
    "        \n",
    "        env.render()\n",
    "\n",
    "# Close\n",
    "env.close_viewer()\n",
    "sliders.close()\n",
    "print(\"Done.\")  "
   ]
  },
  {
   "cell_type": "markdown",
   "metadata": {},
   "source": [
    "# Trajectory Reappearance"
   ]
  },
  {
   "cell_type": "code",
   "execution_count": 129,
   "metadata": {},
   "outputs": [
    {
     "name": "stdout",
     "output_type": "stream",
     "text": [
      "Done.\n"
     ]
    }
   ],
   "source": [
    "joint_names = env.joint_names\n",
    "\n",
    "q0 = q_traj[0]\n",
    "\n",
    "env.init_viewer()\n",
    "\n",
    "env.reset() # reset\n",
    "env.forward(q=q0,joint_names=joint_names) # initial position\n",
    "    \n",
    "# Loop\n",
    "q_ik_init = q0.copy()\n",
    "qpos = q_traj[0]\n",
    "idx = 0\n",
    "\n",
    "while env.is_viewer_alive():\n",
    "    env.forward(q=qpos,joint_names=joint_names)\n",
    "\n",
    "    # Render \n",
    "    if env.loop_every(HZ=0.1):\n",
    "        if idx < len(q_traj)-1:\n",
    "            idx += 1\n",
    "        else: idx = 0\n",
    "\n",
    "        qpos = q_traj[idx]\n",
    "\n",
    "        env.plot_T(\n",
    "            T=env.get_T_body(body_name='base'),\n",
    "            axis_len=0.5,print_xyz=False)\n",
    "        env.plot_text(\n",
    "            p=env.get_p_body(body_name='base')+np.array([0,0,0.5]),\n",
    "            label = 'tick:[%d]time:[%.2f]'%(idx, env.get_sim_time()))\n",
    "        env.plot_body_T(body_name='tcp_link',axis_len=0.1,axis_width=0.005)\n",
    "        \n",
    "        env.render()\n",
    "\n",
    "# Close\n",
    "env.close_viewer()\n",
    "print (\"Done.\")"
   ]
  },
  {
   "cell_type": "markdown",
   "metadata": {},
   "source": [
    "# Reverse Engineering"
   ]
  },
  {
   "cell_type": "code",
   "execution_count": 69,
   "metadata": {},
   "outputs": [
    {
     "name": "stdout",
     "output_type": "stream",
     "text": [
      "[0.81599899 0.07140578 0.274555   0.50365307]\n"
     ]
    },
    {
     "data": {
      "text/plain": [
       "'\\n[-5.27306031e-17  9.32701387e-17  1.57079633e+00]\\n[ 1.48438446e-03  1.39833212e-01 -1.50792732e+00]\\n[ 0.72716463  0.04836099  0.05041956 -0.68289874]\\n[ 0.70710678  0.          0.         -0.70710678]\\n\\n\\n[9.99735615e-01 2.21498574e-02 9.10323765e-04 6.10366593e-03]\\n'"
      ]
     },
     "execution_count": 69,
     "metadata": {},
     "output_type": "execute_result"
    }
   ],
   "source": [
    "# current link gripper -> tcp_link rpy 0,0,0\n",
    "# target link gripper -> target rpy\n",
    "\n",
    "target = base_tool_poses[idx-1][3:]\n",
    "target = quat2r(target)\n",
    "\n",
    "base = env.get_R_body(body_name='link_gripper')\n",
    "current = env.get_R_body(body_name='tcp_link')\n",
    "\n",
    "R = current.T@base\n",
    "rpy = r2rpy(R)\n",
    "# print(rpy)\n",
    "\n",
    "R = base.T@target\n",
    "rpy = r2rpy(R)\n",
    "# print(rpy)\n",
    "print(rpy2quat(rpy))\n",
    "\n",
    "\n",
    "'''\n",
    "[-5.27306031e-17  9.32701387e-17  1.57079633e+00]\n",
    "[ 1.48438446e-03  1.39833212e-01 -1.50792732e+00]\n",
    "[ 0.72716463  0.04836099  0.05041956 -0.68289874]\n",
    "[ 0.70710678  0.          0.         -0.70710678]\n",
    "\n",
    "\n",
    "[9.99735615e-01 2.21498574e-02 9.10323765e-04 6.10366593e-03]\n",
    "'''"
   ]
  },
  {
   "cell_type": "code",
   "execution_count": 126,
   "metadata": {},
   "outputs": [
    {
     "data": {
      "image/png": "[encoded data removed]",
      "text/plain": [
       "<Figure size 1000x600 with 1 Axes>"
      ]
     },
     "metadata": {
      "image/png": {
       "height": 546,
       "width": 841
      }
     },
     "output_type": "display_data"
    }
   ],
   "source": [
    "eef_delta = np.array(states[1:]) - np.array(states[:-1])\n",
    "\n",
    "# Extract position components (indices 0,1,2) from eef_delta and actions\n",
    "eef_pos_delta = eef_delta[:,:3]\n",
    "action_pos = np.array([action[:3] for action in actions[:-1]])  # actions[:-1] to match length of eef_delta\n",
    "\n",
    "# Calculate cosine similarity\n",
    "# Calculate cosine similarity for each index\n",
    "similarities = []\n",
    "for i in range(len(eef_pos_delta)):\n",
    "    similarity = np.sum(eef_pos_delta[i] * action_pos[i]) / (np.linalg.norm(eef_pos_delta[i]) * np.linalg.norm(action_pos[i]))\n",
    "    similarities.append(similarity)\n",
    "\n",
    "similarity = np.array(similarities)\n",
    "# print(f\"Cosine similarity between position deltas and actions: {similarity}\")\n",
    "\n",
    "# Calculate and print statistics of similarity values\n",
    "# Plot histogram of similarity values\n",
    "plt.figure(figsize=(10, 6))\n",
    "plt.hist(similarity, bins=20, edgecolor='black')\n",
    "plt.title('Distribution of Cosine Similarities')\n",
    "plt.xlabel('Cosine Similarity')\n",
    "plt.ylabel('Frequency')\n",
    "\n",
    "# Add statistics as text annotation\n",
    "stats_text = f'Min: {np.min(similarity):.4f}\\nMax: {np.max(similarity):.4f}\\n'\n",
    "stats_text += f'Mean: {np.mean(similarity):.4f}\\nMedian: {np.median(similarity):.4f}'\n",
    "plt.text(0.02, 0.98, stats_text, transform=plt.gca().transAxes, \n",
    "         verticalalignment='top', bbox=dict(boxstyle='round', facecolor='white', alpha=0.8))\n",
    "\n",
    "plt.grid(True, alpha=0.3)\n",
    "plt.show()\n"
   ]
  },
  {
   "cell_type": "code",
   "execution_count": 51,
   "metadata": {},
   "outputs": [
    {
     "data": {
      "text/plain": [
       "30"
      ]
     },
     "execution_count": 51,
     "metadata": {},
     "output_type": "execute_result"
    }
   ],
   "source": [
    "len(frames)"
   ]
  },
  {
   "cell_type": "code",
   "execution_count": null,
   "metadata": {},
   "outputs": [],
   "source": []
  }
 ],
 "metadata": {
  "kernelspec": {
   "display_name": "robotics",
   "language": "python",
   "name": "python3"
  },
  "language_info": {
   "codemirror_mode": {
    "name": "ipython",
    "version": 3
   },
   "file_extension": ".py",
   "mimetype": "text/x-python",
   "name": "python",
   "nbconvert_exporter": "python",
   "pygments_lexer": "ipython3",
   "version": "3.9.21"
  }
 },
 "nbformat": 4,
 "nbformat_minor": 2
}
